{
 "cells": [
  {
   "cell_type": "markdown",
   "metadata": {},
   "source": [
    "## Мой компьютер против себя или же угадываем число за 6 попыток"
   ]
  },
  {
   "cell_type": "markdown",
   "metadata": {},
   "source": [
    "Раньше люди (да и сейчас) люди тренровали своих собак драться с собаками соседей, устраивали чемпионаты.\n",
    "Я же сегодня потренеровался на создании алгоритма умеющего за меньшее количество попыток угудать загаданное число.\n",
    "\n",
    "При этом хотел и постарался писть максимально чистый, понятный и логичный код."
   ]
  },
  {
   "cell_type": "markdown",
   "metadata": {},
   "source": [
    "### Меньше слов - больше дел.\n",
    "\n",
    "Сразу же приступаем к работе.\n",
    "\n",
    "эта была начальная (вторая) версия игры.\n",
    "Его недостатками были:\n",
    "1. Нет возможности конфигурировать.\n",
    "2. Логика непонятна (Какая функция является игрой а какая угадывающей).\n",
    "2. Не эффективен при работе с большими числами\n",
    "\n",
    "### и мы это исправим"
   ]
  },
  {
   "cell_type": "code",
   "execution_count": 302,
   "metadata": {
    "scrolled": false
   },
   "outputs": [
    {
     "name": "stdout",
     "output_type": "stream",
     "text": [
      "Ваш алгоритм угадывает число в среднем за 34 попыток\n"
     ]
    },
    {
     "data": {
      "text/plain": [
       "34"
      ]
     },
     "execution_count": 302,
     "metadata": {},
     "output_type": "execute_result"
    }
   ],
   "source": [
    "import numpy as np\n",
    "def game_core_v2(number):\n",
    "    '''Сначала устанавливаем любое random число, а потом уменьшаем или увеличиваем его в зависимости от того, больше оно или меньше нужного.\n",
    "       Функция принимает загаданное число и возвращает число попыток'''\n",
    "    count = 1\n",
    "    predict = np.random.randint(1,101)\n",
    "    while number != predict:\n",
    "        count+=1\n",
    "        if number > predict: \n",
    "            predict += 1\n",
    "        elif number < predict: \n",
    "            predict -= 1\n",
    "    return(count) # выход из цикла, если угадали\n",
    "\n",
    "def score_game(game_core):\n",
    "    '''Запускаем игру 1000 раз, чтобы узнать, как быстро игра угадывает число'''\n",
    "    count_ls = []\n",
    "    rnd.seed(1)  # фиксируем RANDOM SEED, чтобы ваш эксперимент был воспроизводим!\n",
    "    random_array = rnd.randint(1,100, size=(1000))\n",
    "    for number in random_array:\n",
    "        count_ls.append(game_core(number))\n",
    "    score = int(mean(count_ls))\n",
    "    print(f\"Ваш алгоритм угадывает число в среднем за {score} попыток\")\n",
    "    return(score)\n",
    "\n",
    "score_game(game_core_v2)"
   ]
  },
  {
   "cell_type": "markdown",
   "metadata": {},
   "source": [
    "## Встерайте новую версию игры.\n",
    "С рапределенной логикой, понятными функциями, с возможностью выбрать диапазон загадываемых чисел и количество запусков, с мощным алгоритмом приближения к загаданному числу.\n",
    "\n",
    "Итак что мы сделали?\n",
    "Первую функцию num_predictor определили как игрок (алгоритм) который получает загаданное число, сравнивает со своим вариантом. Если неверно, то определяет насколько далек от загаданного числа. Сначало проверяет больше  или меньше, потом проверяет разници между числами больше 10 или нет. Если так, то он приближается к числу так, чтобы расстояние было меньше чем 10. Снова проверяет расстояние и убедившись в том что дистанция меньше 10 он по одному шагу приближается к числу.\n",
    "\n",
    "Вторую фнкцию определили как сама игра, которая придумает столько чисел, сколько и количество запусков.\n",
    "и кажде число оно задает игроку и в качестве результата получает число попыток. И возврощает к стартеру."
   ]
  },
  {
   "cell_type": "code",
   "execution_count": 290,
   "metadata": {
    "scrolled": true
   },
   "outputs": [],
   "source": [
    "from numpy import random as rnd, mean\n",
    "\n",
    "def num_predictor(n):\n",
    "    count = 1\n",
    "    predict = rnd.randint(1, 100)\n",
    "    levels = [x for x in range(0, 101, 10)]\n",
    "    check_distance = lambda x: (n > predict + x) if n > predict else (n < predict - x) # Проверяем насколько мы длеки от n\n",
    "    \n",
    "    while n != predict:\n",
    "        count += 1\n",
    "        if n > predict + 10: predict += len(list(filter(check_distance,levels))) * 10 # Приближаепмся к n в меньшее число чем 10\n",
    "        elif n < predict - 10: predict -= len(list(filter(check_distance,levels))) * 10 # Приближаепмся к n в меньшее число чем 10\n",
    "        elif n > predict: predict += 1\n",
    "        elif n < predict: predict -= 1\n",
    "    return count\n",
    "\n",
    "def game(player, plays=1000, minimal=1, maximal=100):\n",
    "    numbers = np.random.randint(minimal,maximal+1, size=(plays)) # Получем загадонные компьютером числа в заданных пользователем размерах\n",
    "\n",
    "    stats = [player(number) for number in numbers] # Пытаемся угадать number в заданной функции, в разультате получаем количество попыток\n",
    "\n",
    "    score = int(mean(stats))\n",
    "    \n",
    "    return(score)"
   ]
  },
  {
   "cell_type": "markdown",
   "metadata": {},
   "source": [
    "Стартер же это функция конфигурирующая игру запрашивая ваши предпочтения."
   ]
  },
  {
   "cell_type": "code",
   "execution_count": 306,
   "metadata": {
    "scrolled": true
   },
   "outputs": [
    {
     "name": "stdout",
     "output_type": "stream",
     "text": [
      "Сколько раз запустить игру?\n",
      "1000\n",
      "Укажите минимальное загадываемое число\n",
      "1\n",
      "Укажите максимальное загадываемое число\n",
      "100\n",
      "Ваш алгоритм угадывает число в среднем за 6 попыток\n"
     ]
    }
   ],
   "source": [
    "def start():\n",
    "    print('Сколько раз запустить игру?')\n",
    "    plays = int(input())\n",
    "    \n",
    "    print('Укажите минимальное загадываемое число')\n",
    "    minimal = int(input())\n",
    "    \n",
    "    print('Укажите максимальное загадываемое число')\n",
    "    maximal = int(input())\n",
    "    \n",
    "    score = game(num_predictor, plays, minimal, maximal)\n",
    "    print(f\"Ваш алгоритм угадывает число в среднем за {score} попыток\")\n",
    "start()"
   ]
  }
 ],
 "metadata": {
  "kernelspec": {
   "display_name": "Python 3",
   "language": "python",
   "name": "python3"
  },
  "language_info": {
   "codemirror_mode": {
    "name": "ipython",
    "version": 3
   },
   "file_extension": ".py",
   "mimetype": "text/x-python",
   "name": "python",
   "nbconvert_exporter": "python",
   "pygments_lexer": "ipython3",
   "version": "3.8.3"
  }
 },
 "nbformat": 4,
 "nbformat_minor": 4
}
