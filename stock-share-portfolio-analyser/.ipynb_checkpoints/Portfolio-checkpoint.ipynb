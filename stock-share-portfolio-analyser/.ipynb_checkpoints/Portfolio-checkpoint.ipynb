{
 "cells": [
  {
   "cell_type": "markdown",
   "metadata": {},
   "source": [
    "## This script helps me to analyse my stock share portfolio"
   ]
  },
  {
   "cell_type": "markdown",
   "metadata": {},
   "source": []
  },
  {
   "cell_type": "code",
   "execution_count": 1,
   "metadata": {},
   "outputs": [],
   "source": [
    "import collections\n",
    "import requests\n",
    "from bs4 import BeautifulSoup as BS\n",
    "import re\n",
    "floatptn = re.compile('\\d*,?\\d+\\.\\d+')\n",
    "intptn = re.compile('^\\d+,?\\d+$')\n",
    "data = open('portfolio.20-09-20.csv')\n",
    "\n",
    "def process_data(data):\n",
    "    keys = []\n",
    "    i = 0\n",
    "    lines = []\n",
    "    for line in data:\n",
    "        line = line.split(';')\n",
    "        if i > 0:\n",
    "            el = {}\n",
    "            for c in range(len(line)):\n",
    "                if intptn.search(line[c]) != None:\n",
    "                    val = int(line[c].replace(',', ''))\n",
    "                elif floatptn.search(line[c]) != None:\n",
    "                    val = float(line[c].replace(',', ''))\n",
    "                else:\n",
    "                    val = line[c]\n",
    "                el[keys[c]] = val\n",
    "            lines.append(el)\n",
    "        else:\n",
    "            keys = line\n",
    "            i+=1\n",
    "    return lines\n",
    "            \n",
    "def get_prices(share):\n",
    "    share_url = 'https://uzse.uz/isu_infos/STK?isu_cd='\n",
    "    compiler = re.compile('\\d+\\s?,?\\d*')\n",
    "    print('Getting prices for', share['company'])\n",
    "    r = requests.get(share_url+share['code'])\n",
    "    cnt = BS(r.content, 'html.parser')\n",
    "    prices = []\n",
    "    for el in cnt.select('.conclusion-table .text-right'):\n",
    "        price = el.select('.trd-price.price-up')\n",
    "        if compiler.search(el.text) != None:\n",
    "            index = compiler.search(el.text).span()\n",
    "            price = float(el.text[index[0]:index[1]].replace(',', '.').replace(' ', ''))\n",
    "            prices.append(price)\n",
    "        else:\n",
    "            prices.append(0)\n",
    "    return {'nominal': prices[0], 'base': prices[1], 'current': prices[2]}\n",
    "\n",
    "def get_data(sort):\n",
    "    actives = {}\n",
    "    for trade in sort:\n",
    "        active = {'Company': '', 'Quantity': 0, 'Total profit': 0, 'Total spent': 0, 'Base price': 0, 'Current price': 0, 'Price change': 0, 'Profit change': 0, 'Fee': 0, 'Trades': 0}\n",
    "        if trade['Issue Code'] in actives:\n",
    "            active = actives[trade['Issue Code']]\n",
    "        active['Company'] = trade['Issue Name']\n",
    "        active['Trades'] += 1\n",
    "        active['Quantity'] += trade['Executed Quantity']\n",
    "        active['Base price'] += trade['Execution Price']\n",
    "        active['Total spent'] += trade['Trading Amount']\n",
    "        active['Fee'] += trade['Fee']\n",
    "        actives[trade['Issue Code']] = active\n",
    "\n",
    "    for i in actives:\n",
    "        share = actives[i]\n",
    "        current = get_prices({'code': i, 'company': share['Company']})\n",
    "        price = current['current']\n",
    "        share['Current price'] = price\n",
    "        share['Base price'] = price / share['Trades']\n",
    "        share['Price change'] = price - share['Base price']\n",
    "        share['Total profit'] = price * share['Quantity']\n",
    "        share['Profit change'] = share['Total profit'] - share['Total spent']\n",
    "    return actives\n",
    "\n",
    "def e(str1, str2='', length=40):\n",
    "    print(str1.ljust(40, ' '), str2)\n",
    "    \n",
    "def n(num, pad=20, dec=2, thousands=' ', decimal='.'):\n",
    "    return (\"{0:\"+str(pad)+\",.\"+str(dec)+\"f}\").format(num).replace(',', thousands).replace('.', decimal)"
   ]
  },
  {
   "cell_type": "markdown",
   "metadata": {},
   "source": [
    "## Ma'lumotni tahlil qilish"
   ]
  },
  {
   "cell_type": "code",
   "execution_count": 2,
   "metadata": {},
   "outputs": [
    {
     "name": "stdout",
     "output_type": "stream",
     "text": [
      "Getting prices for O'zsanoatqurilishbank ATB\n",
      "Getting prices for KAFOLAT Insurance Company JSC\n",
      "Getting prices for Kvarts AJ\n",
      "Getting prices for Qizilqumsement AJ\n",
      "Getting prices for Hamkorbank ATB\n",
      "Getting prices for Chilonzor buyum savdo kompleksi AJ\n",
      "Getting prices for Agrobank ATB\n",
      "Getting prices for IPOTEKA-BANK ATIB\n",
      "Getting prices for Hamkorbank ATB\n",
      "Getting prices for IPOTEKA-BANK ATIB\n",
      "Getting prices for Kapital sug'urta AJ\n"
     ]
    }
   ],
   "source": [
    "sort = process_data(data)\n",
    "actives = get_data(sort)\n",
    "currentIndex = 0\n",
    "baseIndex = 0\n",
    "totalProfit = 0\n",
    "nsa = 0\n",
    "ta = 0\n",
    "fee = 0\n",
    "eq = 0\n",
    "ep = 0\n",
    "trades = len(sort)\n",
    "c = collections.Counter()\n",
    "for item in sort:\n",
    "    nsa += item['Net Settlement Amount']\n",
    "    ta += item['Trading Amount']\n",
    "    fee += item['Fee']\n",
    "    eq += item['Executed Quantity']\n",
    "    ep += item['Execution Price']\n",
    "\n",
    "for code, active in actives.items():\n",
    "    currentIndex += active['Current price']\n",
    "    baseIndex += active['Base price']\n",
    "    totalProfit += active['Total profit']"
   ]
  },
  {
   "cell_type": "markdown",
   "metadata": {},
   "source": [
    "## Yakuniy Hisoblar"
   ]
  },
  {
   "cell_type": "code",
   "execution_count": 3,
   "metadata": {},
   "outputs": [
    {
     "name": "stdout",
     "output_type": "stream",
     "text": [
      "Umumiy harajatlar                               12 965 878.10\n",
      "Savdo harajatlari                               12 837 503.05\n",
      "To'lovlar                                          128 375.05\n",
      "Aktivlar qiymati                                12 676 670.00\n",
      "Aksiyalar soni                                   1 423 630.00\n"
     ]
    },
    {
     "ename": "NameError",
     "evalue": "name 'current' is not defined",
     "output_type": "error",
     "traceback": [
      "\u001b[1;31m---------------------------------------------------------------------------\u001b[0m",
      "\u001b[1;31mNameError\u001b[0m                                 Traceback (most recent call last)",
      "\u001b[1;32m<ipython-input-3-208f596ec266>\u001b[0m in \u001b[0;36m<module>\u001b[1;34m\u001b[0m\n\u001b[0;32m     14\u001b[0m     \u001b[0me\u001b[0m\u001b[1;33m(\u001b[0m \u001b[1;34m'Daromad'\u001b[0m\u001b[1;33m,\u001b[0m \u001b[0mn\u001b[0m\u001b[1;33m(\u001b[0m\u001b[0mtotalProfit\u001b[0m \u001b[1;33m-\u001b[0m \u001b[0mta\u001b[0m\u001b[1;33m)\u001b[0m\u001b[1;33m)\u001b[0m\u001b[1;33m\u001b[0m\u001b[1;33m\u001b[0m\u001b[0m\n\u001b[0;32m     15\u001b[0m \u001b[1;33m\u001b[0m\u001b[0m\n\u001b[1;32m---> 16\u001b[1;33m \u001b[0mprint_data\u001b[0m\u001b[1;33m(\u001b[0m\u001b[1;33m)\u001b[0m\u001b[1;33m\u001b[0m\u001b[1;33m\u001b[0m\u001b[0m\n\u001b[0m",
      "\u001b[1;32m<ipython-input-3-208f596ec266>\u001b[0m in \u001b[0;36mprint_data\u001b[1;34m()\u001b[0m\n\u001b[0;32m      6\u001b[0m     \u001b[0me\u001b[0m\u001b[1;33m(\u001b[0m\u001b[1;34m'Aktivlar qiymati'\u001b[0m\u001b[1;33m,\u001b[0m \u001b[0mn\u001b[0m\u001b[1;33m(\u001b[0m\u001b[0mtotalProfit\u001b[0m\u001b[1;33m)\u001b[0m\u001b[1;33m)\u001b[0m\u001b[1;33m\u001b[0m\u001b[1;33m\u001b[0m\u001b[0m\n\u001b[0;32m      7\u001b[0m     \u001b[0me\u001b[0m\u001b[1;33m(\u001b[0m\u001b[1;34m'Aksiyalar soni'\u001b[0m\u001b[1;33m,\u001b[0m \u001b[0mn\u001b[0m\u001b[1;33m(\u001b[0m\u001b[0meq\u001b[0m\u001b[1;33m)\u001b[0m\u001b[1;33m)\u001b[0m\u001b[1;33m\u001b[0m\u001b[1;33m\u001b[0m\u001b[0m\n\u001b[1;32m----> 8\u001b[1;33m     \u001b[0me\u001b[0m\u001b[1;33m(\u001b[0m\u001b[1;34m'Xarid narxlari indeksi'\u001b[0m\u001b[1;33m,\u001b[0m \u001b[0mn\u001b[0m\u001b[1;33m(\u001b[0m\u001b[0mbaseIndex\u001b[0m \u001b[1;33m/\u001b[0m \u001b[0mlen\u001b[0m\u001b[1;33m(\u001b[0m\u001b[0mcurrent\u001b[0m\u001b[1;33m)\u001b[0m\u001b[1;33m)\u001b[0m\u001b[1;33m)\u001b[0m\u001b[1;33m\u001b[0m\u001b[1;33m\u001b[0m\u001b[0m\n\u001b[0m\u001b[0;32m      9\u001b[0m     \u001b[0me\u001b[0m\u001b[1;33m(\u001b[0m\u001b[1;34m'Joriy narxlar indeksi'\u001b[0m\u001b[1;33m,\u001b[0m \u001b[0mn\u001b[0m\u001b[1;33m(\u001b[0m\u001b[0mcurrentIndex\u001b[0m \u001b[1;33m/\u001b[0m \u001b[0mlen\u001b[0m\u001b[1;33m(\u001b[0m\u001b[0mcurrent\u001b[0m\u001b[1;33m)\u001b[0m\u001b[1;33m)\u001b[0m\u001b[1;33m)\u001b[0m\u001b[1;33m\u001b[0m\u001b[1;33m\u001b[0m\u001b[0m\n\u001b[0;32m     10\u001b[0m     \u001b[0mprint\u001b[0m\u001b[1;33m(\u001b[0m\u001b[1;34m'-----------------------------'\u001b[0m\u001b[1;33m)\u001b[0m\u001b[1;33m\u001b[0m\u001b[1;33m\u001b[0m\u001b[0m\n",
      "\u001b[1;31mNameError\u001b[0m: name 'current' is not defined"
     ]
    }
   ],
   "source": [
    "def print_data():\n",
    "    sorted_actives = sorted(actives, key=lambda x: actives[x]['Total spent'], reverse=True)\n",
    "    e('Umumiy harajatlar', n(nsa))\n",
    "    e('Savdo harajatlari', n(ta))\n",
    "    e('To\\'lovlar', n(fee))\n",
    "    e('Aktivlar qiymati', n(totalProfit))\n",
    "    e('Aksiyalar soni', n(eq))\n",
    "    e('Xarid narxlari indeksi', n(baseIndex / len(current)))\n",
    "    e('Joriy narxlar indeksi', n(currentIndex / len(current)))\n",
    "    print('-----------------------------')\n",
    "    for i in sorted_actives:\n",
    "        e(actives[i]['Company'], n(actives[i]['Profit change']) + n(actives[i]['Total spent']))\n",
    "    print('-----------------------------')\n",
    "    e( 'Daromad', n(totalProfit - ta))\n",
    "    \n",
    "print_data()"
   ]
  }
 ],
 "metadata": {
  "kernelspec": {
   "display_name": "Python 3",
   "language": "python",
   "name": "python3"
  },
  "language_info": {
   "codemirror_mode": {
    "name": "ipython",
    "version": 3
   },
   "file_extension": ".py",
   "mimetype": "text/x-python",
   "name": "python",
   "nbconvert_exporter": "python",
   "pygments_lexer": "ipython3",
   "version": "3.8.3"
  }
 },
 "nbformat": 4,
 "nbformat_minor": 4
}
