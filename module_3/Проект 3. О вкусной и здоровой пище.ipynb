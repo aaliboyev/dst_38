{
 "cells": [
  {
   "cell_type": "markdown",
   "source": [
    "## Проект 3. О вкусной и здоровой пище"
   ],
   "metadata": {
    "collapsed": false
   }
  },
  {
   "cell_type": "code",
   "execution_count": 147,
   "outputs": [],
   "source": [
    "import re\n",
    "import numpy as np\n",
    "import pandas as pd\n",
    "from datetime import datetime as dt\n",
    "import collections"
   ],
   "metadata": {
    "collapsed": false,
    "pycharm": {
     "name": "#%%\n"
    }
   }
  },
  {
   "cell_type": "code",
   "execution_count": 148,
   "outputs": [],
   "source": [
    "data = pd.read_csv('main_task.csv')"
   ],
   "metadata": {
    "collapsed": false,
    "pycharm": {
     "name": "#%%\n"
    }
   }
  },
  {
   "cell_type": "code",
   "execution_count": 149,
   "outputs": [
    {
     "name": "stdout",
     "output_type": "stream",
     "text": [
      "Index(['Restaurant_id', 'City', 'Cuisine Style', 'Ranking', 'Rating',\n",
      "       'Price Range', 'Number of Reviews', 'Reviews', 'URL_TA', 'ID_TA'],\n",
      "      dtype='object')\n"
     ]
    },
    {
     "data": {
      "text/plain": "            Ranking        Rating  Number of Reviews\ncount  40000.000000  40000.000000       37457.000000\nmean    3676.028525      3.993037         124.825480\nstd     3708.749567      0.668417         295.666352\nmin        1.000000      1.000000           2.000000\n25%      973.000000      3.500000           9.000000\n50%     2285.000000      4.000000          33.000000\n75%     5260.000000      4.500000         115.000000\nmax    16444.000000      5.000000        9660.000000",
      "text/html": "<div>\n<style scoped>\n    .dataframe tbody tr th:only-of-type {\n        vertical-align: middle;\n    }\n\n    .dataframe tbody tr th {\n        vertical-align: top;\n    }\n\n    .dataframe thead th {\n        text-align: right;\n    }\n</style>\n<table border=\"1\" class=\"dataframe\">\n  <thead>\n    <tr style=\"text-align: right;\">\n      <th></th>\n      <th>Ranking</th>\n      <th>Rating</th>\n      <th>Number of Reviews</th>\n    </tr>\n  </thead>\n  <tbody>\n    <tr>\n      <th>count</th>\n      <td>40000.000000</td>\n      <td>40000.000000</td>\n      <td>37457.000000</td>\n    </tr>\n    <tr>\n      <th>mean</th>\n      <td>3676.028525</td>\n      <td>3.993037</td>\n      <td>124.825480</td>\n    </tr>\n    <tr>\n      <th>std</th>\n      <td>3708.749567</td>\n      <td>0.668417</td>\n      <td>295.666352</td>\n    </tr>\n    <tr>\n      <th>min</th>\n      <td>1.000000</td>\n      <td>1.000000</td>\n      <td>2.000000</td>\n    </tr>\n    <tr>\n      <th>25%</th>\n      <td>973.000000</td>\n      <td>3.500000</td>\n      <td>9.000000</td>\n    </tr>\n    <tr>\n      <th>50%</th>\n      <td>2285.000000</td>\n      <td>4.000000</td>\n      <td>33.000000</td>\n    </tr>\n    <tr>\n      <th>75%</th>\n      <td>5260.000000</td>\n      <td>4.500000</td>\n      <td>115.000000</td>\n    </tr>\n    <tr>\n      <th>max</th>\n      <td>16444.000000</td>\n      <td>5.000000</td>\n      <td>9660.000000</td>\n    </tr>\n  </tbody>\n</table>\n</div>"
     },
     "execution_count": 149,
     "metadata": {},
     "output_type": "execute_result"
    }
   ],
   "source": [
    "print(data.columns)\n",
    "data.describe()"
   ],
   "metadata": {
    "collapsed": false,
    "pycharm": {
     "name": "#%%\n"
    }
   }
  },
  {
   "cell_type": "code",
   "execution_count": 150,
   "outputs": [
    {
     "name": "stdout",
     "output_type": "stream",
     "text": [
      "<class 'pandas.core.frame.DataFrame'>\n",
      "RangeIndex: 40000 entries, 0 to 39999\n",
      "Data columns (total 10 columns):\n",
      " #   Column             Non-Null Count  Dtype  \n",
      "---  ------             --------------  -----  \n",
      " 0   Restaurant_id      40000 non-null  object \n",
      " 1   City               40000 non-null  object \n",
      " 2   Cuisine Style      30717 non-null  object \n",
      " 3   Ranking            40000 non-null  float64\n",
      " 4   Rating             40000 non-null  float64\n",
      " 5   Price Range        26114 non-null  object \n",
      " 6   Number of Reviews  37457 non-null  float64\n",
      " 7   Reviews            40000 non-null  object \n",
      " 8   URL_TA             40000 non-null  object \n",
      " 9   ID_TA              40000 non-null  object \n",
      "dtypes: float64(3), object(7)\n",
      "memory usage: 3.1+ MB\n"
     ]
    }
   ],
   "source": [
    "data.info()"
   ],
   "metadata": {
    "collapsed": false,
    "pycharm": {
     "name": "#%%\n"
    }
   }
  },
  {
   "cell_type": "code",
   "execution_count": 151,
   "outputs": [],
   "source": [
    "# data['City'].value_counts()\n",
    "data['Cuisines'] = data['Cuisine Style'].apply(lambda x: len(x.strip('[]').split(', ')) if x is not np.nan else 1)"
   ],
   "metadata": {
    "collapsed": false,
    "pycharm": {
     "name": "#%%\n"
    }
   }
  },
  {
   "cell_type": "code",
   "execution_count": 152,
   "outputs": [],
   "source": [
    "date_ptn = re.compile('\\'\\d+/\\d+/\\d+\\'?')\n",
    "data['Review dates'] = data['Reviews'].apply(lambda x: [dt.strptime(item, \"'%m/%d/%Y'\") for item in date_ptn.findall(x)])\n",
    "data['Review DD'] = data['Review dates'].apply(lambda x: (x[0] - x[1]).days if len(x) >1 else 0)"
   ],
   "metadata": {
    "collapsed": false,
    "pycharm": {
     "name": "#%%\n"
    }
   }
  },
  {
   "cell_type": "code",
   "execution_count": 161,
   "outputs": [
    {
     "data": {
      "text/plain": "          City  Ranking  Rating Price Range  Number of Reviews\n0        Paris   5570.0     3.5    $$ - $$$              194.0\n1    Stockholm   1537.0     4.0         NaN               10.0\n2       London    353.0     4.5        $$$$              688.0\n3       Berlin   3458.0     5.0         NaN                3.0\n4       Munich    621.0     4.0    $$ - $$$               84.0\n5       Oporto   1419.0     3.0         NaN                2.0\n6        Milan   1722.0     4.0           $               50.0\n7   Bratislava    826.0     3.0         NaN                9.0\n8       Vienna   2692.0     4.0         NaN                NaN\n9         Rome   4210.0     4.0           $               55.0\n10   Barcelona   6579.0     3.0         NaN                6.0\n11      London   5321.0     4.0    $$ - $$$               42.0\n12      London   4073.0     3.5    $$ - $$$              286.0\n13      Berlin   4639.0     4.5    $$ - $$$               10.0\n14      Madrid   4776.0     4.0    $$ - $$$                7.0\n15      Dublin   1405.0     4.0    $$ - $$$               28.0\n16      Berlin   5259.0     4.0         NaN                3.0\n17      London  11131.0     4.5    $$ - $$$                7.0\n18      Berlin   3129.0     4.0    $$ - $$$               12.0\n19    Brussels   2792.0     3.0    $$ - $$$               12.0\n20      Munich    370.0     5.0    $$ - $$$               27.0\n21      Madrid   5847.0     4.0         NaN                NaN\n22      London  13026.0     3.5    $$ - $$$               52.0\n23      Zurich     73.0     4.0    $$ - $$$              371.0\n24      London  14984.0     3.0           $               18.0\n25      Warsaw   1077.0     5.0           $                2.0\n26      Madrid   2765.0     5.0         NaN               11.0\n27    Budapest   2109.0     3.5         NaN                2.0\n28       Paris  10059.0     4.5         NaN                4.0\n29      Madrid   8356.0     2.5         NaN               16.0\n30  Copenhagen   1846.0     3.0         NaN               16.0\n31   Amsterdam   2011.0     4.5    $$ - $$$               15.0\n32    Budapest   1328.0     5.0         NaN                NaN\n33        Lyon   2435.0     3.0         NaN                4.0\n34        Rome   2428.0     4.5           $               69.0\n35      Madrid   2047.0     4.5    $$ - $$$               20.0\n36       Milan   5845.0     3.0    $$ - $$$              104.0\n37        Rome   5210.0     5.0    $$ - $$$                2.0\n38       Paris  11293.0     4.5    $$ - $$$               10.0\n39       Milan   3133.0     4.0         NaN                7.0\n40      Madrid   2713.0     4.5           $                9.0\n41       Paris   5460.0     3.5    $$ - $$$              132.0\n42     Hamburg    165.0     4.5    $$ - $$$               73.0\n43       Paris   9926.0     3.5           $               39.0\n44      Lisbon   2195.0     4.0         NaN                7.0\n45      London  11955.0     4.0         NaN                3.0\n46      Madrid   8467.0     2.0         NaN                4.0\n47    Brussels     76.0     4.0    $$ - $$$              484.0\n48   Barcelona   2099.0     4.0           $               41.0\n49       Paris   1049.0     4.5        $$$$              281.0",
      "text/html": "<div>\n<style scoped>\n    .dataframe tbody tr th:only-of-type {\n        vertical-align: middle;\n    }\n\n    .dataframe tbody tr th {\n        vertical-align: top;\n    }\n\n    .dataframe thead th {\n        text-align: right;\n    }\n</style>\n<table border=\"1\" class=\"dataframe\">\n  <thead>\n    <tr style=\"text-align: right;\">\n      <th></th>\n      <th>City</th>\n      <th>Ranking</th>\n      <th>Rating</th>\n      <th>Price Range</th>\n      <th>Number of Reviews</th>\n    </tr>\n  </thead>\n  <tbody>\n    <tr>\n      <th>0</th>\n      <td>Paris</td>\n      <td>5570.0</td>\n      <td>3.5</td>\n      <td>$$ - $$$</td>\n      <td>194.0</td>\n    </tr>\n    <tr>\n      <th>1</th>\n      <td>Stockholm</td>\n      <td>1537.0</td>\n      <td>4.0</td>\n      <td>NaN</td>\n      <td>10.0</td>\n    </tr>\n    <tr>\n      <th>2</th>\n      <td>London</td>\n      <td>353.0</td>\n      <td>4.5</td>\n      <td>$$$$</td>\n      <td>688.0</td>\n    </tr>\n    <tr>\n      <th>3</th>\n      <td>Berlin</td>\n      <td>3458.0</td>\n      <td>5.0</td>\n      <td>NaN</td>\n      <td>3.0</td>\n    </tr>\n    <tr>\n      <th>4</th>\n      <td>Munich</td>\n      <td>621.0</td>\n      <td>4.0</td>\n      <td>$$ - $$$</td>\n      <td>84.0</td>\n    </tr>\n    <tr>\n      <th>5</th>\n      <td>Oporto</td>\n      <td>1419.0</td>\n      <td>3.0</td>\n      <td>NaN</td>\n      <td>2.0</td>\n    </tr>\n    <tr>\n      <th>6</th>\n      <td>Milan</td>\n      <td>1722.0</td>\n      <td>4.0</td>\n      <td>$</td>\n      <td>50.0</td>\n    </tr>\n    <tr>\n      <th>7</th>\n      <td>Bratislava</td>\n      <td>826.0</td>\n      <td>3.0</td>\n      <td>NaN</td>\n      <td>9.0</td>\n    </tr>\n    <tr>\n      <th>8</th>\n      <td>Vienna</td>\n      <td>2692.0</td>\n      <td>4.0</td>\n      <td>NaN</td>\n      <td>NaN</td>\n    </tr>\n    <tr>\n      <th>9</th>\n      <td>Rome</td>\n      <td>4210.0</td>\n      <td>4.0</td>\n      <td>$</td>\n      <td>55.0</td>\n    </tr>\n    <tr>\n      <th>10</th>\n      <td>Barcelona</td>\n      <td>6579.0</td>\n      <td>3.0</td>\n      <td>NaN</td>\n      <td>6.0</td>\n    </tr>\n    <tr>\n      <th>11</th>\n      <td>London</td>\n      <td>5321.0</td>\n      <td>4.0</td>\n      <td>$$ - $$$</td>\n      <td>42.0</td>\n    </tr>\n    <tr>\n      <th>12</th>\n      <td>London</td>\n      <td>4073.0</td>\n      <td>3.5</td>\n      <td>$$ - $$$</td>\n      <td>286.0</td>\n    </tr>\n    <tr>\n      <th>13</th>\n      <td>Berlin</td>\n      <td>4639.0</td>\n      <td>4.5</td>\n      <td>$$ - $$$</td>\n      <td>10.0</td>\n    </tr>\n    <tr>\n      <th>14</th>\n      <td>Madrid</td>\n      <td>4776.0</td>\n      <td>4.0</td>\n      <td>$$ - $$$</td>\n      <td>7.0</td>\n    </tr>\n    <tr>\n      <th>15</th>\n      <td>Dublin</td>\n      <td>1405.0</td>\n      <td>4.0</td>\n      <td>$$ - $$$</td>\n      <td>28.0</td>\n    </tr>\n    <tr>\n      <th>16</th>\n      <td>Berlin</td>\n      <td>5259.0</td>\n      <td>4.0</td>\n      <td>NaN</td>\n      <td>3.0</td>\n    </tr>\n    <tr>\n      <th>17</th>\n      <td>London</td>\n      <td>11131.0</td>\n      <td>4.5</td>\n      <td>$$ - $$$</td>\n      <td>7.0</td>\n    </tr>\n    <tr>\n      <th>18</th>\n      <td>Berlin</td>\n      <td>3129.0</td>\n      <td>4.0</td>\n      <td>$$ - $$$</td>\n      <td>12.0</td>\n    </tr>\n    <tr>\n      <th>19</th>\n      <td>Brussels</td>\n      <td>2792.0</td>\n      <td>3.0</td>\n      <td>$$ - $$$</td>\n      <td>12.0</td>\n    </tr>\n    <tr>\n      <th>20</th>\n      <td>Munich</td>\n      <td>370.0</td>\n      <td>5.0</td>\n      <td>$$ - $$$</td>\n      <td>27.0</td>\n    </tr>\n    <tr>\n      <th>21</th>\n      <td>Madrid</td>\n      <td>5847.0</td>\n      <td>4.0</td>\n      <td>NaN</td>\n      <td>NaN</td>\n    </tr>\n    <tr>\n      <th>22</th>\n      <td>London</td>\n      <td>13026.0</td>\n      <td>3.5</td>\n      <td>$$ - $$$</td>\n      <td>52.0</td>\n    </tr>\n    <tr>\n      <th>23</th>\n      <td>Zurich</td>\n      <td>73.0</td>\n      <td>4.0</td>\n      <td>$$ - $$$</td>\n      <td>371.0</td>\n    </tr>\n    <tr>\n      <th>24</th>\n      <td>London</td>\n      <td>14984.0</td>\n      <td>3.0</td>\n      <td>$</td>\n      <td>18.0</td>\n    </tr>\n    <tr>\n      <th>25</th>\n      <td>Warsaw</td>\n      <td>1077.0</td>\n      <td>5.0</td>\n      <td>$</td>\n      <td>2.0</td>\n    </tr>\n    <tr>\n      <th>26</th>\n      <td>Madrid</td>\n      <td>2765.0</td>\n      <td>5.0</td>\n      <td>NaN</td>\n      <td>11.0</td>\n    </tr>\n    <tr>\n      <th>27</th>\n      <td>Budapest</td>\n      <td>2109.0</td>\n      <td>3.5</td>\n      <td>NaN</td>\n      <td>2.0</td>\n    </tr>\n    <tr>\n      <th>28</th>\n      <td>Paris</td>\n      <td>10059.0</td>\n      <td>4.5</td>\n      <td>NaN</td>\n      <td>4.0</td>\n    </tr>\n    <tr>\n      <th>29</th>\n      <td>Madrid</td>\n      <td>8356.0</td>\n      <td>2.5</td>\n      <td>NaN</td>\n      <td>16.0</td>\n    </tr>\n    <tr>\n      <th>30</th>\n      <td>Copenhagen</td>\n      <td>1846.0</td>\n      <td>3.0</td>\n      <td>NaN</td>\n      <td>16.0</td>\n    </tr>\n    <tr>\n      <th>31</th>\n      <td>Amsterdam</td>\n      <td>2011.0</td>\n      <td>4.5</td>\n      <td>$$ - $$$</td>\n      <td>15.0</td>\n    </tr>\n    <tr>\n      <th>32</th>\n      <td>Budapest</td>\n      <td>1328.0</td>\n      <td>5.0</td>\n      <td>NaN</td>\n      <td>NaN</td>\n    </tr>\n    <tr>\n      <th>33</th>\n      <td>Lyon</td>\n      <td>2435.0</td>\n      <td>3.0</td>\n      <td>NaN</td>\n      <td>4.0</td>\n    </tr>\n    <tr>\n      <th>34</th>\n      <td>Rome</td>\n      <td>2428.0</td>\n      <td>4.5</td>\n      <td>$</td>\n      <td>69.0</td>\n    </tr>\n    <tr>\n      <th>35</th>\n      <td>Madrid</td>\n      <td>2047.0</td>\n      <td>4.5</td>\n      <td>$$ - $$$</td>\n      <td>20.0</td>\n    </tr>\n    <tr>\n      <th>36</th>\n      <td>Milan</td>\n      <td>5845.0</td>\n      <td>3.0</td>\n      <td>$$ - $$$</td>\n      <td>104.0</td>\n    </tr>\n    <tr>\n      <th>37</th>\n      <td>Rome</td>\n      <td>5210.0</td>\n      <td>5.0</td>\n      <td>$$ - $$$</td>\n      <td>2.0</td>\n    </tr>\n    <tr>\n      <th>38</th>\n      <td>Paris</td>\n      <td>11293.0</td>\n      <td>4.5</td>\n      <td>$$ - $$$</td>\n      <td>10.0</td>\n    </tr>\n    <tr>\n      <th>39</th>\n      <td>Milan</td>\n      <td>3133.0</td>\n      <td>4.0</td>\n      <td>NaN</td>\n      <td>7.0</td>\n    </tr>\n    <tr>\n      <th>40</th>\n      <td>Madrid</td>\n      <td>2713.0</td>\n      <td>4.5</td>\n      <td>$</td>\n      <td>9.0</td>\n    </tr>\n    <tr>\n      <th>41</th>\n      <td>Paris</td>\n      <td>5460.0</td>\n      <td>3.5</td>\n      <td>$$ - $$$</td>\n      <td>132.0</td>\n    </tr>\n    <tr>\n      <th>42</th>\n      <td>Hamburg</td>\n      <td>165.0</td>\n      <td>4.5</td>\n      <td>$$ - $$$</td>\n      <td>73.0</td>\n    </tr>\n    <tr>\n      <th>43</th>\n      <td>Paris</td>\n      <td>9926.0</td>\n      <td>3.5</td>\n      <td>$</td>\n      <td>39.0</td>\n    </tr>\n    <tr>\n      <th>44</th>\n      <td>Lisbon</td>\n      <td>2195.0</td>\n      <td>4.0</td>\n      <td>NaN</td>\n      <td>7.0</td>\n    </tr>\n    <tr>\n      <th>45</th>\n      <td>London</td>\n      <td>11955.0</td>\n      <td>4.0</td>\n      <td>NaN</td>\n      <td>3.0</td>\n    </tr>\n    <tr>\n      <th>46</th>\n      <td>Madrid</td>\n      <td>8467.0</td>\n      <td>2.0</td>\n      <td>NaN</td>\n      <td>4.0</td>\n    </tr>\n    <tr>\n      <th>47</th>\n      <td>Brussels</td>\n      <td>76.0</td>\n      <td>4.0</td>\n      <td>$$ - $$$</td>\n      <td>484.0</td>\n    </tr>\n    <tr>\n      <th>48</th>\n      <td>Barcelona</td>\n      <td>2099.0</td>\n      <td>4.0</td>\n      <td>$</td>\n      <td>41.0</td>\n    </tr>\n    <tr>\n      <th>49</th>\n      <td>Paris</td>\n      <td>1049.0</td>\n      <td>4.5</td>\n      <td>$$$$</td>\n      <td>281.0</td>\n    </tr>\n  </tbody>\n</table>\n</div>"
     },
     "execution_count": 161,
     "metadata": {},
     "output_type": "execute_result"
    }
   ],
   "source": [
    "data[['City', 'Ranking', 'Rating','Price Range', 'Number of Reviews']].head(50)\n"
   ],
   "metadata": {
    "collapsed": false,
    "pycharm": {
     "name": "#%%\n"
    }
   }
  },
  {
   "cell_type": "code",
   "execution_count": 2,
   "outputs": [
    {
     "ename": "NameError",
     "evalue": "name 'data' is not defined",
     "output_type": "error",
     "traceback": [
      "\u001B[1;31m---------------------------------------------------------------------------\u001B[0m",
      "\u001B[1;31mNameError\u001B[0m                                 Traceback (most recent call last)",
      "\u001B[1;32m<ipython-input-2-189b33a777ec>\u001B[0m in \u001B[0;36m<module>\u001B[1;34m\u001B[0m\n\u001B[0;32m      2\u001B[0m     \u001B[1;32mreturn\u001B[0m \u001B[0mstring\u001B[0m\u001B[1;33m.\u001B[0m\u001B[0mreplace\u001B[0m\u001B[1;33m(\u001B[0m\u001B[1;34m'[]'\u001B[0m\u001B[1;33m,\u001B[0m \u001B[1;34m''\u001B[0m\u001B[1;33m)\u001B[0m\u001B[1;33m.\u001B[0m\u001B[0mreplace\u001B[0m\u001B[1;33m(\u001B[0m\u001B[1;34m\"'\"\u001B[0m\u001B[1;33m,\u001B[0m \u001B[1;34m''\u001B[0m\u001B[1;33m)\u001B[0m\u001B[1;33m.\u001B[0m\u001B[0msplit\u001B[0m\u001B[1;33m(\u001B[0m\u001B[1;34m', '\u001B[0m\u001B[1;33m)\u001B[0m\u001B[1;33m\u001B[0m\u001B[1;33m\u001B[0m\u001B[0m\n\u001B[0;32m      3\u001B[0m \u001B[1;33m\u001B[0m\u001B[0m\n\u001B[1;32m----> 4\u001B[1;33m \u001B[0mcuisine_styles\u001B[0m \u001B[1;33m=\u001B[0m \u001B[0mdata\u001B[0m\u001B[1;33m[\u001B[0m\u001B[0mdata\u001B[0m\u001B[1;33m[\u001B[0m\u001B[1;34m'Cuisines'\u001B[0m\u001B[1;33m]\u001B[0m \u001B[1;33m==\u001B[0m \u001B[0mdata\u001B[0m\u001B[1;33m[\u001B[0m\u001B[1;34m'Cuisines'\u001B[0m\u001B[1;33m]\u001B[0m\u001B[1;33m.\u001B[0m\u001B[0mmax\u001B[0m\u001B[1;33m(\u001B[0m\u001B[1;33m)\u001B[0m\u001B[1;33m]\u001B[0m\u001B[1;33m[\u001B[0m\u001B[1;34m'Cuisine Style'\u001B[0m\u001B[1;33m]\u001B[0m\u001B[1;33m.\u001B[0m\u001B[0mvalues\u001B[0m\u001B[1;33m[\u001B[0m\u001B[1;36m0\u001B[0m\u001B[1;33m]\u001B[0m\u001B[1;33m.\u001B[0m\u001B[0mstrip\u001B[0m\u001B[1;33m(\u001B[0m\u001B[1;34m\"[]\"\u001B[0m\u001B[1;33m)\u001B[0m\u001B[1;33m.\u001B[0m\u001B[0msplit\u001B[0m\u001B[1;33m(\u001B[0m\u001B[1;34m', '\u001B[0m\u001B[1;33m)\u001B[0m\u001B[1;33m\u001B[0m\u001B[1;33m\u001B[0m\u001B[0m\n\u001B[0m\u001B[0;32m      5\u001B[0m \u001B[0mselected_cuisines\u001B[0m \u001B[1;33m=\u001B[0m \u001B[0mcollections\u001B[0m\u001B[1;33m.\u001B[0m\u001B[0mCounter\u001B[0m\u001B[1;33m(\u001B[0m\u001B[1;33m)\u001B[0m\u001B[1;33m\u001B[0m\u001B[1;33m\u001B[0m\u001B[0m\n\u001B[0;32m      6\u001B[0m \u001B[0mcuisine_series\u001B[0m \u001B[1;33m=\u001B[0m \u001B[0mdata\u001B[0m\u001B[1;33m[\u001B[0m\u001B[0mdata\u001B[0m\u001B[1;33m[\u001B[0m\u001B[1;34m'Cuisine Style'\u001B[0m\u001B[1;33m]\u001B[0m\u001B[1;33m.\u001B[0m\u001B[0mnotna\u001B[0m\u001B[1;33m(\u001B[0m\u001B[1;33m)\u001B[0m\u001B[1;33m]\u001B[0m\u001B[1;33m[\u001B[0m\u001B[1;34m'Cuisine Style'\u001B[0m\u001B[1;33m]\u001B[0m\u001B[1;33m\u001B[0m\u001B[1;33m\u001B[0m\u001B[0m\n",
      "\u001B[1;31mNameError\u001B[0m: name 'data' is not defined"
     ]
    }
   ],
   "source": [
    "def split_string(string):\n",
    "    return string.replace('[]', '').replace(\"'\", '').split(', ')\n",
    "\n",
    "cuisine_styles = data[data['Cuisines'] == data['Cuisines'].max()]['Cuisine Style'].values[0].strip(\"[]\").split(', ')\n",
    "selected_cuisines = collections.Counter()\n",
    "cuisine_series = data[data['Cuisine Style'].notna()]['Cuisine Style']\n",
    "for row in cuisine_series:\n",
    "    for cuisine in split_string(row):\n",
    "        selected_cuisines[cuisine] += 1\n",
    "\n",
    "selected_cuisines = {'Cuisine ' + k: v  for k, v in sorted(selected_cuisines.items(), key=lambda item: item[1])}\n",
    "selected_cuisines = dict(filter(lambda x: True if x[1] > 500 else False, selected_cuisines.items()))"
   ],
   "metadata": {
    "collapsed": false,
    "pycharm": {
     "name": "#%%\n"
    }
   }
  },
  {
   "cell_type": "code",
   "execution_count": 155,
   "outputs": [],
   "source": [
    "def assign_values(values):\n",
    "    existing = selected_cuisines.copy()\n",
    "\n",
    "    for key, val in existing.items():\n",
    "        existing[key] = 1 if values is not np.nan and key[8:] in split_string(values) else 0\n",
    "\n",
    "    return list(existing.values())\n",
    "\n",
    "# cuisines = pd.DataFrame(columns=['Restaurant_id'] + list(selected_cuisines.keys()))\n",
    "# for row in data[['Restaurant_id', 'Cuisine Style']].loc:\n",
    "#     cuisines.loc[row.name] = [row['Restaurant_id']] + assign_values(row['Cuisine Style'])\n",
    "# cuisines.to_csv('cuisines.csv')"
   ],
   "metadata": {
    "collapsed": false,
    "pycharm": {
     "name": "#%%\n"
    }
   }
  },
  {
   "cell_type": "code",
   "execution_count": 156,
   "outputs": [],
   "source": [
    "ratings = pd.read_csv('data_loaded.csv', index_col=[0])\n",
    "cuisines = pd.read_csv('cuisines.csv', index_col=[0])"
   ],
   "metadata": {
    "collapsed": false,
    "pycharm": {
     "name": "#%%\n"
    }
   }
  },
  {
   "cell_type": "code",
   "execution_count": 157,
   "outputs": [],
   "source": [
    "data_ratings = data.merge(ratings, on=data.index)"
   ],
   "metadata": {
    "collapsed": false,
    "pycharm": {
     "name": "#%%\n"
    }
   }
  },
  {
   "cell_type": "code",
   "execution_count": 158,
   "outputs": [],
   "source": [
    "data_ratings.drop(['Restaurant_id_x', 'Restaurant_id_y', 'key_0'], axis=1, inplace=True)\n",
    "full_data = data_ratings.merge(cuisines, on=data_ratings.index)"
   ],
   "metadata": {
    "collapsed": false,
    "pycharm": {
     "name": "#%%\n"
    }
   }
  },
  {
   "cell_type": "code",
   "execution_count": 159,
   "outputs": [],
   "source": [
    "full_data.drop('key_0', axis=1, inplace=True)"
   ],
   "metadata": {
    "collapsed": false,
    "pycharm": {
     "name": "#%%\n"
    }
   }
  },
  {
   "cell_type": "code",
   "execution_count": 160,
   "outputs": [],
   "source": [
    "full_data.to_csv('full.data.csv')"
   ],
   "metadata": {
    "collapsed": false,
    "pycharm": {
     "name": "#%%\n"
    }
   }
  }
 ],
 "metadata": {
  "kernelspec": {
   "display_name": "Python 3",
   "language": "python",
   "name": "python3"
  },
  "language_info": {
   "codemirror_mode": {
    "name": "ipython",
    "version": 2
   },
   "file_extension": ".py",
   "mimetype": "text/x-python",
   "name": "python",
   "nbconvert_exporter": "python",
   "pygments_lexer": "ipython2",
   "version": "2.7.6"
  }
 },
 "nbformat": 4,
 "nbformat_minor": 0
}