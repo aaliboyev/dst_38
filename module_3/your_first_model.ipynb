{
 "cells": [
  {
   "cell_type": "markdown",
   "source": [
    "# Проект 3. О вкусной и здоровой пище\n",
    "\n",
    "Первоначальная версия датасета состоит из десяти столбцов, содержащих следующую информацию:\n",
    "\n",
    "* Restaurant_id — идентификационный номер ресторана / сети ресторанов;\n",
    "* City — город, в котором находится ресторан;\n",
    "* Cuisine Style — кухня или кухни, к которым можно отнести блюда, предлагаемые в ресторане;\n",
    "* Ranking — место, которое занимает данный ресторан среди всех ресторанов своего города;\n",
    "* Rating — рейтинг ресторана по данным TripAdvisor (целевая переменная (!));\n",
    "* Price Range — диапазон цен в ресторане;\n",
    "* Number of Reviews — количество отзывов о ресторане;\n",
    "* Reviews — данные о двух отзывах, которые отображаются на сайте ресторана;\n",
    "* URL_TA — URL страницы ресторана на TripAdvisor;\n",
    "* ID_TA — идентификатор ресторана в базе данных TripAdvisor."
   ],
   "metadata": {
    "collapsed": false,
    "pycharm": {
     "name": "#%% md\n"
    }
   }
  },
  {
   "cell_type": "markdown",
   "metadata": {},
   "source": [
    "# Загрузка Pandas и очистка данных"
   ]
  },
  {
   "cell_type": "code",
   "execution_count": 1,
   "metadata": {},
   "outputs": [],
   "source": [
    "import pandas as pd\n",
    "import numpy as np\n",
    "from datetime import datetime as dt\n",
    "import collections\n",
    "import re\n",
    "import requests\n",
    "from patsy.splines import bs"
   ]
  },
  {
   "cell_type": "code",
   "execution_count": 42,
   "metadata": {},
   "outputs": [],
   "source": [
    "df = pd.read_csv('main_task.csv')"
   ]
  },
  {
   "cell_type": "code",
   "execution_count": 45,
   "outputs": [],
   "source": [
    "def split_string(string):\n",
    "    return string.strip('[]').replace(\"'\", '').split(', ')\n",
    "\n",
    "def map_cuisines(values, cuisines):\n",
    "    return [1 if values is not np.nan and key[8:] in split_string(values) else 0 for key, val in cuisines.items()]"
   ],
   "metadata": {
    "collapsed": false,
    "pycharm": {
     "name": "#%%\n"
    }
   }
  },
  {
   "cell_type": "code",
   "execution_count": 46,
   "outputs": [],
   "source": [
    "df = df.rename(columns={'Restaurant_id_x': 'Restaurant_id'})"
   ],
   "metadata": {
    "collapsed": false,
    "pycharm": {
     "name": "#%%\n"
    }
   }
  },
  {
   "cell_type": "code",
   "execution_count": 47,
   "metadata": {},
   "outputs": [
    {
     "name": "stdout",
     "output_type": "stream",
     "text": [
      "<class 'pandas.core.frame.DataFrame'>\n",
      "RangeIndex: 40000 entries, 0 to 39999\n",
      "Data columns (total 10 columns):\n",
      " #   Column             Non-Null Count  Dtype  \n",
      "---  ------             --------------  -----  \n",
      " 0   Restaurant_id      40000 non-null  object \n",
      " 1   City               40000 non-null  object \n",
      " 2   Cuisine Style      30717 non-null  object \n",
      " 3   Ranking            40000 non-null  float64\n",
      " 4   Rating             40000 non-null  float64\n",
      " 5   Price Range        26114 non-null  object \n",
      " 6   Number of Reviews  37457 non-null  float64\n",
      " 7   Reviews            40000 non-null  object \n",
      " 8   URL_TA             40000 non-null  object \n",
      " 9   ID_TA              40000 non-null  object \n",
      "dtypes: float64(3), object(7)\n",
      "memory usage: 3.1+ MB\n"
     ]
    }
   ],
   "source": [
    "df.info()\n",
    "\n",
    "# переведём в нижний регистр названия столбцов\n",
    "df.columns = df.columns.str.lower()\n",
    "# заменим пробелы в названиях столбцов на символ нижний подчерк\n",
    "df.columns = df.columns.str.replace(' ', '_')"
   ]
  },
  {
   "cell_type": "code",
   "source": [
    "df.head()"
   ],
   "metadata": {
    "collapsed": false,
    "pycharm": {
     "name": "#%%\n"
    }
   },
   "execution_count": 48,
   "outputs": [
    {
     "data": {
      "text/plain": "  restaurant_id       city                                      cuisine_style  \\\n0       id_5569      Paris            ['European', 'French', 'International']   \n1       id_1535  Stockholm                                                NaN   \n2        id_352     London  ['Japanese', 'Sushi', 'Asian', 'Grill', 'Veget...   \n3       id_3456     Berlin                                                NaN   \n4        id_615     Munich  ['German', 'Central European', 'Vegetarian Fri...   \n\n   ranking  rating price_range  number_of_reviews  \\\n0   5570.0     3.5    $$ - $$$              194.0   \n1   1537.0     4.0         NaN               10.0   \n2    353.0     4.5        $$$$              688.0   \n3   3458.0     5.0         NaN                3.0   \n4    621.0     4.0    $$ - $$$               84.0   \n\n                                             reviews  \\\n0  [['Good food at your doorstep', 'A good hotel ...   \n1  [['Unique cuisine', 'Delicious Nepalese food']...   \n2  [['Catch up with friends', 'Not exceptional'],...   \n3                                           [[], []]   \n4  [['Best place to try a Bavarian food', 'Nice b...   \n\n                                              url_ta     id_ta  \n0  /Restaurant_Review-g187147-d1912643-Reviews-R_...  d1912643  \n1  /Restaurant_Review-g189852-d7992032-Reviews-Bu...  d7992032  \n2  /Restaurant_Review-g186338-d8632781-Reviews-RO...  d8632781  \n3  /Restaurant_Review-g187323-d1358776-Reviews-Es...  d1358776  \n4  /Restaurant_Review-g187309-d6864963-Reviews-Au...  d6864963  ",
      "text/html": "<div>\n<style scoped>\n    .dataframe tbody tr th:only-of-type {\n        vertical-align: middle;\n    }\n\n    .dataframe tbody tr th {\n        vertical-align: top;\n    }\n\n    .dataframe thead th {\n        text-align: right;\n    }\n</style>\n<table border=\"1\" class=\"dataframe\">\n  <thead>\n    <tr style=\"text-align: right;\">\n      <th></th>\n      <th>restaurant_id</th>\n      <th>city</th>\n      <th>cuisine_style</th>\n      <th>ranking</th>\n      <th>rating</th>\n      <th>price_range</th>\n      <th>number_of_reviews</th>\n      <th>reviews</th>\n      <th>url_ta</th>\n      <th>id_ta</th>\n    </tr>\n  </thead>\n  <tbody>\n    <tr>\n      <th>0</th>\n      <td>id_5569</td>\n      <td>Paris</td>\n      <td>['European', 'French', 'International']</td>\n      <td>5570.0</td>\n      <td>3.5</td>\n      <td>$$ - $$$</td>\n      <td>194.0</td>\n      <td>[['Good food at your doorstep', 'A good hotel ...</td>\n      <td>/Restaurant_Review-g187147-d1912643-Reviews-R_...</td>\n      <td>d1912643</td>\n    </tr>\n    <tr>\n      <th>1</th>\n      <td>id_1535</td>\n      <td>Stockholm</td>\n      <td>NaN</td>\n      <td>1537.0</td>\n      <td>4.0</td>\n      <td>NaN</td>\n      <td>10.0</td>\n      <td>[['Unique cuisine', 'Delicious Nepalese food']...</td>\n      <td>/Restaurant_Review-g189852-d7992032-Reviews-Bu...</td>\n      <td>d7992032</td>\n    </tr>\n    <tr>\n      <th>2</th>\n      <td>id_352</td>\n      <td>London</td>\n      <td>['Japanese', 'Sushi', 'Asian', 'Grill', 'Veget...</td>\n      <td>353.0</td>\n      <td>4.5</td>\n      <td>$$$$</td>\n      <td>688.0</td>\n      <td>[['Catch up with friends', 'Not exceptional'],...</td>\n      <td>/Restaurant_Review-g186338-d8632781-Reviews-RO...</td>\n      <td>d8632781</td>\n    </tr>\n    <tr>\n      <th>3</th>\n      <td>id_3456</td>\n      <td>Berlin</td>\n      <td>NaN</td>\n      <td>3458.0</td>\n      <td>5.0</td>\n      <td>NaN</td>\n      <td>3.0</td>\n      <td>[[], []]</td>\n      <td>/Restaurant_Review-g187323-d1358776-Reviews-Es...</td>\n      <td>d1358776</td>\n    </tr>\n    <tr>\n      <th>4</th>\n      <td>id_615</td>\n      <td>Munich</td>\n      <td>['German', 'Central European', 'Vegetarian Fri...</td>\n      <td>621.0</td>\n      <td>4.0</td>\n      <td>$$ - $$$</td>\n      <td>84.0</td>\n      <td>[['Best place to try a Bavarian food', 'Nice b...</td>\n      <td>/Restaurant_Review-g187309-d6864963-Reviews-Au...</td>\n      <td>d6864963</td>\n    </tr>\n  </tbody>\n</table>\n</div>"
     },
     "execution_count": 48,
     "metadata": {},
     "output_type": "execute_result"
    }
   ]
  },
  {
   "cell_type": "markdown",
   "source": [
    "### Restaurant_id"
   ],
   "metadata": {
    "collapsed": false,
    "pycharm": {
     "name": "#%% md\n"
    }
   }
  },
  {
   "cell_type": "code",
   "execution_count": 49,
   "outputs": [
    {
     "data": {
      "text/plain": "id_436      18\nid_633      18\nid_227      18\nid_871      18\nid_585      17\n            ..\nid_13055     1\nid_7398      1\nid_13775     1\nid_5406      1\nid_6421      1\nName: restaurant_id, Length: 11909, dtype: int64"
     },
     "execution_count": 49,
     "metadata": {},
     "output_type": "execute_result"
    }
   ],
   "source": [
    "df.restaurant_id.value_counts()"
   ],
   "metadata": {
    "collapsed": false,
    "pycharm": {
     "name": "#%%\n"
    }
   }
  },
  {
   "cell_type": "code",
   "execution_count": 50,
   "outputs": [
    {
     "data": {
      "text/plain": "d7342803     2\nd13002276    2\nd1315077     2\nd7809594     2\nd4600226     2\n            ..\nd12640107    1\nd12968785    1\nd1854949     1\nd5481459     1\nd8114710     1\nName: id_ta, Length: 39980, dtype: int64"
     },
     "execution_count": 50,
     "metadata": {},
     "output_type": "execute_result"
    }
   ],
   "source": [
    "# Заодно проверяем другие значения которые по идею должны быть уникальными\n",
    "# Усли найдутся дупликаты, удаляем\n",
    "df.id_ta.value_counts()"
   ],
   "metadata": {
    "collapsed": false,
    "pycharm": {
     "name": "#%%\n"
    }
   }
  },
  {
   "cell_type": "code",
   "execution_count": 51,
   "outputs": [
    {
     "data": {
      "text/plain": "      restaurant_id    city  \\\n16920       id_3536  Madrid   \n29879       id_3662  Madrid   \n\n                                           cuisine_style  ranking  rating  \\\n16920  ['International', 'Mediterranean', 'Spanish', ...   3538.0     4.0   \n29879  ['International', 'Mediterranean', 'Spanish', ...   3664.0     4.0   \n\n      price_range  number_of_reviews  \\\n16920    $$ - $$$               52.0   \n29879    $$ - $$$               52.0   \n\n                                                 reviews  \\\n16920  [['Great Food! Wide Variety.', 'Dinner'], ['11...   \n29879  [['Great Food! Wide Variety.', 'Dinner'], ['11...   \n\n                                                  url_ta      id_ta  \n16920  /Restaurant_Review-g187514-d11999956-Reviews-S...  d11999956  \n29879  /Restaurant_Review-g187514-d11999956-Reviews-S...  d11999956  ",
      "text/html": "<div>\n<style scoped>\n    .dataframe tbody tr th:only-of-type {\n        vertical-align: middle;\n    }\n\n    .dataframe tbody tr th {\n        vertical-align: top;\n    }\n\n    .dataframe thead th {\n        text-align: right;\n    }\n</style>\n<table border=\"1\" class=\"dataframe\">\n  <thead>\n    <tr style=\"text-align: right;\">\n      <th></th>\n      <th>restaurant_id</th>\n      <th>city</th>\n      <th>cuisine_style</th>\n      <th>ranking</th>\n      <th>rating</th>\n      <th>price_range</th>\n      <th>number_of_reviews</th>\n      <th>reviews</th>\n      <th>url_ta</th>\n      <th>id_ta</th>\n    </tr>\n  </thead>\n  <tbody>\n    <tr>\n      <th>16920</th>\n      <td>id_3536</td>\n      <td>Madrid</td>\n      <td>['International', 'Mediterranean', 'Spanish', ...</td>\n      <td>3538.0</td>\n      <td>4.0</td>\n      <td>$$ - $$$</td>\n      <td>52.0</td>\n      <td>[['Great Food! Wide Variety.', 'Dinner'], ['11...</td>\n      <td>/Restaurant_Review-g187514-d11999956-Reviews-S...</td>\n      <td>d11999956</td>\n    </tr>\n    <tr>\n      <th>29879</th>\n      <td>id_3662</td>\n      <td>Madrid</td>\n      <td>['International', 'Mediterranean', 'Spanish', ...</td>\n      <td>3664.0</td>\n      <td>4.0</td>\n      <td>$$ - $$$</td>\n      <td>52.0</td>\n      <td>[['Great Food! Wide Variety.', 'Dinner'], ['11...</td>\n      <td>/Restaurant_Review-g187514-d11999956-Reviews-S...</td>\n      <td>d11999956</td>\n    </tr>\n  </tbody>\n</table>\n</div>"
     },
     "execution_count": 51,
     "metadata": {},
     "output_type": "execute_result"
    }
   ],
   "source": [
    "df[df.id_ta == 'd11999956']"
   ],
   "metadata": {
    "collapsed": false,
    "pycharm": {
     "name": "#%%\n"
    }
   }
  },
  {
   "cell_type": "code",
   "execution_count": 52,
   "outputs": [],
   "source": [
    "df.drop_duplicates(subset=['id_ta'], inplace=True)"
   ],
   "metadata": {
    "collapsed": false,
    "pycharm": {
     "name": "#%%\n"
    }
   }
  },
  {
   "cell_type": "code",
   "execution_count": 53,
   "outputs": [
    {
     "data": {
      "text/plain": "array([1, 1, 1, 1, 1, 1, 1, 1, 1, 1, 1, 1, 1, 1, 1, 1, 1, 1, 1, 1, 1, 1,\n       1, 1, 1, 1, 1, 1, 1, 1, 1, 1, 1, 1, 1, 1, 1, 1, 1, 1, 1, 1, 1, 1,\n       1, 1, 1, 1, 1, 1], dtype=int64)"
     },
     "execution_count": 53,
     "metadata": {},
     "output_type": "execute_result"
    }
   ],
   "source": [
    "df.url_ta.value_counts().values[:50]"
   ],
   "metadata": {
    "collapsed": false,
    "pycharm": {
     "name": "#%%\n"
    }
   }
  },
  {
   "cell_type": "code",
   "execution_count": 54,
   "outputs": [
    {
     "name": "stdout",
     "output_type": "stream",
     "text": [
      "<class 'pandas.core.frame.DataFrame'>\n",
      "RangeIndex: 39980 entries, 0 to 39979\n",
      "Data columns (total 10 columns):\n",
      " #   Column             Non-Null Count  Dtype  \n",
      "---  ------             --------------  -----  \n",
      " 0   restaurant_id      39980 non-null  object \n",
      " 1   city               39980 non-null  object \n",
      " 2   cuisine_style      30701 non-null  object \n",
      " 3   ranking            39980 non-null  float64\n",
      " 4   rating             39980 non-null  float64\n",
      " 5   price_range        26101 non-null  object \n",
      " 6   number_of_reviews  37437 non-null  float64\n",
      " 7   reviews            39980 non-null  object \n",
      " 8   url_ta             39980 non-null  object \n",
      " 9   id_ta              39980 non-null  object \n",
      "dtypes: float64(3), object(7)\n",
      "memory usage: 3.1+ MB\n"
     ]
    }
   ],
   "source": [
    "df = df.reset_index(drop=True)\n",
    "df.info()"
   ],
   "metadata": {
    "collapsed": false,
    "pycharm": {
     "name": "#%%\n"
    }
   }
  },
  {
   "cell_type": "markdown",
   "source": [
    "Идея! Можем группировать строки с помошью этой колонки и получить общую информацию о сети ресторанов."
   ],
   "metadata": {
    "collapsed": false,
    "pycharm": {
     "name": "#%% md\n"
    }
   }
  },
  {
   "cell_type": "markdown",
   "source": [
    "### city"
   ],
   "metadata": {
    "collapsed": false
   }
  },
  {
   "cell_type": "code",
   "execution_count": 55,
   "outputs": [
    {
     "name": "stdout",
     "output_type": "stream",
     "text": [
      "Число городов 31\n"
     ]
    },
    {
     "data": {
      "text/plain": "London        5757\nParis         4897\nMadrid        3088\nBarcelona     2734\nBerlin        2155\nMilan         2133\nRome          2078\nPrague        1443\nLisbon        1300\nVienna        1166\nAmsterdam     1086\nBrussels      1060\nHamburg        949\nMunich         893\nLyon           892\nStockholm      820\nBudapest       816\nWarsaw         727\nDublin         673\nCopenhagen     659\nAthens         628\nEdinburgh      596\nZurich         538\nOporto         513\nGeneva         481\nKrakow         443\nOslo           385\nHelsinki       376\nBratislava     301\nLuxembourg     210\nLjubljana      183\nName: city, dtype: int64"
     },
     "execution_count": 55,
     "metadata": {},
     "output_type": "execute_result"
    }
   ],
   "source": [
    "print('Число городов', len(df.city.value_counts()))\n",
    "df.city.value_counts()"
   ],
   "metadata": {
    "collapsed": false,
    "pycharm": {
     "name": "#%%\n"
    }
   }
  },
  {
   "cell_type": "markdown",
   "source": [
    "Идея! Похожее ситуация с предыдущим. Можем группировать по городам.\n"
   ],
   "metadata": {
    "collapsed": false
   }
  },
  {
   "cell_type": "markdown",
   "source": [
    "### cuisine_style"
   ],
   "metadata": {
    "collapsed": false
   }
  },
  {
   "cell_type": "code",
   "execution_count": 56,
   "outputs": [
    {
     "data": {
      "text/plain": "['Italian']                                                                                     1032\n['French']                                                                                       805\n['Spanish']                                                                                      692\n['French', 'European']                                                                           405\n['Cafe']                                                                                         403\n                                                                                                ... \n['Thai', 'Asian', 'Vegetarian Friendly', 'Vegan Options']                                          1\n['Steakhouse', 'Argentinean', 'South American', 'Grill', 'Gluten Free Options']                    1\n['Irish', 'Cafe', 'European', 'Vegan Options', 'Gluten Free Options', 'Vegetarian Friendly']       1\n['Bar', 'Gastropub', 'Mediterranean', 'European', 'Spanish', 'Pub']                                1\n['Mediterranean', 'European', 'Spanish', 'Argentinean']                                            1\nName: cuisine_style, Length: 9007, dtype: int64"
     },
     "execution_count": 56,
     "metadata": {},
     "output_type": "execute_result"
    }
   ],
   "source": [
    "df.cuisine_style.value_counts()"
   ],
   "metadata": {
    "collapsed": false,
    "pycharm": {
     "name": "#%%\n"
    }
   }
  },
  {
   "cell_type": "code",
   "execution_count": 57,
   "outputs": [
    {
     "data": {
      "text/plain": "{'Cuisine Vietnamese': 513,\n 'Cuisine Contemporary': 523,\n 'Cuisine Barbecue': 555,\n 'Cuisine Steakhouse': 573,\n 'Cuisine Fusion': 577,\n 'Cuisine Czech': 595,\n 'Cuisine Halal': 597,\n 'Cuisine Greek': 604,\n 'Cuisine Healthy': 620,\n 'Cuisine German': 661,\n 'Cuisine Wine Bar': 697,\n 'Cuisine Thai': 743,\n 'Cuisine Middle Eastern': 781,\n 'Cuisine Indian': 1041,\n 'Cuisine Portuguese': 1107,\n 'Cuisine Chinese': 1145,\n 'Cuisine Sushi': 1156,\n 'Cuisine American': 1312,\n 'Cuisine Central European': 1392,\n 'Cuisine Japanese': 1463,\n 'Cuisine Seafood': 1504,\n 'Cuisine International': 1583,\n 'Cuisine British': 1595,\n 'Cuisine Fast Food': 1705,\n 'Cuisine Cafe': 2325,\n 'Cuisine Pub': 2449,\n 'Cuisine Spanish': 2788,\n 'Cuisine Pizza': 2849,\n 'Cuisine Asian': 3010,\n 'Cuisine French': 3189,\n 'Cuisine Bar': 3296,\n 'Cuisine Gluten Free Options': 4110,\n 'Cuisine Vegan Options': 4482,\n 'Cuisine Italian': 5963,\n 'Cuisine Mediterranean': 6271,\n 'Cuisine European': 10056,\n 'Cuisine Vegetarian Friendly': 11183}"
     },
     "execution_count": 57,
     "metadata": {},
     "output_type": "execute_result"
    }
   ],
   "source": [
    "df['cuisines_count'] = df.cuisine_style.apply(lambda x: len(split_string(x)) if x is not np.nan else 1)\n",
    "cuisine_styles = collections.Counter()\n",
    "\n",
    "for row in df[df.cuisine_style.notna()].cuisine_style:\n",
    "    for element in split_string(row):\n",
    "        cuisine_styles[element] += 1\n",
    "\n",
    "# Создаем массив новых категориальных колонок из стиоей кухонь будем учитывать только стили встречающиеся больше 500 раз\n",
    "selected_cuisines = {'Cuisine ' + k: v  for k, v in sorted(cuisine_styles.items(), key=lambda item: item[1])}\n",
    "selected_cuisines = dict(filter(lambda x: True if x[1] > 500 else False, selected_cuisines.items()))\n",
    "selected_cuisines"
   ],
   "metadata": {
    "collapsed": false,
    "pycharm": {
     "name": "#%%\n"
    }
   }
  },
  {
   "cell_type": "code",
   "execution_count": 179,
   "outputs": [],
   "source": [
    "# # Создаем новый датафрейм из стилей кухонь\n",
    "# cuisines = pd.DataFrame(columns=['id_ta'] + list(selected_cuisines.keys()))\n",
    "# # заполняем датафрейм со значениями 1 если в строке встречается нужный стиль кухни\n",
    "# for row in df[['id_ta', 'cuisine_style']].loc:\n",
    "#     cuisines.loc[row.name] = [row['id_ta']] + map_cuisines(row['cuisine_style'], selected_cuisines)\n",
    "# #"
   ],
   "metadata": {
    "collapsed": false,
    "pycharm": {
     "name": "#%%\n"
    }
   }
  },
  {
   "cell_type": "code",
   "execution_count": 58,
   "outputs": [],
   "source": [
    "# Это займет много времени поэтому сохраним датафрейм в отдельный файл\n",
    "# cuisines.to_csv('cuisines.csv')\n",
    "cuisines = pd.read_csv('cuisines.csv', index_col=[0])"
   ],
   "metadata": {
    "collapsed": false,
    "pycharm": {
     "name": "#%%\n"
    }
   }
  },
  {
   "cell_type": "markdown",
   "source": [
    "### price_range"
   ],
   "metadata": {
    "collapsed": false,
    "pycharm": {
     "name": "#%% md\n"
    }
   }
  },
  {
   "cell_type": "code",
   "execution_count": 59,
   "outputs": [
    {
     "data": {
      "text/plain": "$$ - $$$    18402\n$            6276\n$$$$         1423\nName: price_range, dtype: int64"
     },
     "execution_count": 59,
     "metadata": {},
     "output_type": "execute_result"
    }
   ],
   "source": [
    "df.price_range.value_counts()"
   ],
   "metadata": {
    "collapsed": false,
    "pycharm": {
     "name": "#%%\n"
    }
   }
  },
  {
   "cell_type": "code",
   "execution_count": 60,
   "outputs": [
    {
     "data": {
      "text/plain": "$$ - $$$    2908\n$           1025\n$$$$         214\nName: price_range, dtype: int64"
     },
     "execution_count": 60,
     "metadata": {},
     "output_type": "execute_result"
    }
   ],
   "source": [
    "df[df.city == 'London'].price_range.value_counts()"
   ],
   "metadata": {
    "collapsed": false,
    "pycharm": {
     "name": "#%%\n"
    }
   }
  },
  {
   "cell_type": "code",
   "execution_count": 61,
   "outputs": [],
   "source": [
    "# понятно что группировка по ресторанам может дать более точную информацию\n",
    "# Если не сможем определить ценовой сегмент ресторана, ставим самый часто встречающийся сегмент.\n",
    "grouped = df[['price_range', 'restaurant_id']].groupby(['restaurant_id'], as_index=False).agg(lambda x: x.value_counts().index[0] if len(x.value_counts()) > 0 else '$$ - $$$')"
   ],
   "metadata": {
    "collapsed": false,
    "pycharm": {
     "name": "#%%\n"
    }
   }
  },
  {
   "cell_type": "code",
   "execution_count": 62,
   "outputs": [
    {
     "name": "stderr",
     "output_type": "stream",
     "text": [
      "C:\\Users\\Aliboyev Abror\\anaconda3\\lib\\site-packages\\pandas\\core\\generic.py:5303: SettingWithCopyWarning: \n",
      "A value is trying to be set on a copy of a slice from a DataFrame\n",
      "\n",
      "See the caveats in the documentation: https://pandas.pydata.org/pandas-docs/stable/user_guide/indexing.html#returning-a-view-versus-a-copy\n",
      "  self[name] = value\n"
     ]
    },
    {
     "data": {
      "text/plain": "$$ - $$$    29647\n$            8768\n$$$$         1565\nName: price_range, dtype: int64"
     },
     "execution_count": 62,
     "metadata": {},
     "output_type": "execute_result"
    }
   ],
   "source": [
    "# df['price_range2'] = df['restaurant_id'].apply(inspect)\n",
    "for row in df[df.price_range.isna()].iloc:\n",
    "    row.price_range = grouped[grouped.restaurant_id == row.restaurant_id].price_range.values[0]\n",
    "    df.iloc[row.name] = row.values\n",
    "\n",
    "df.price_range.value_counts()"
   ],
   "metadata": {
    "collapsed": false,
    "pycharm": {
     "name": "#%%\n"
    }
   }
  },
  {
   "cell_type": "code",
   "execution_count": 63,
   "outputs": [
    {
     "data": {
      "text/plain": "      id_ta  price_low  price_average  price_high\n0  d1912643          0              1           0\n1  d7992032          0              1           0\n2  d8632781          0              0           1\n3  d1358776          0              1           0\n4  d6864963          0              1           0",
      "text/html": "<div>\n<style scoped>\n    .dataframe tbody tr th:only-of-type {\n        vertical-align: middle;\n    }\n\n    .dataframe tbody tr th {\n        vertical-align: top;\n    }\n\n    .dataframe thead th {\n        text-align: right;\n    }\n</style>\n<table border=\"1\" class=\"dataframe\">\n  <thead>\n    <tr style=\"text-align: right;\">\n      <th></th>\n      <th>id_ta</th>\n      <th>price_low</th>\n      <th>price_average</th>\n      <th>price_high</th>\n    </tr>\n  </thead>\n  <tbody>\n    <tr>\n      <th>0</th>\n      <td>d1912643</td>\n      <td>0</td>\n      <td>1</td>\n      <td>0</td>\n    </tr>\n    <tr>\n      <th>1</th>\n      <td>d7992032</td>\n      <td>0</td>\n      <td>1</td>\n      <td>0</td>\n    </tr>\n    <tr>\n      <th>2</th>\n      <td>d8632781</td>\n      <td>0</td>\n      <td>0</td>\n      <td>1</td>\n    </tr>\n    <tr>\n      <th>3</th>\n      <td>d1358776</td>\n      <td>0</td>\n      <td>1</td>\n      <td>0</td>\n    </tr>\n    <tr>\n      <th>4</th>\n      <td>d6864963</td>\n      <td>0</td>\n      <td>1</td>\n      <td>0</td>\n    </tr>\n  </tbody>\n</table>\n</div>"
     },
     "execution_count": 63,
     "metadata": {},
     "output_type": "execute_result"
    }
   ],
   "source": [
    "price_range = pd.DataFrame(np.concatenate((np.array([df.id_ta.values]).T, np.zeros((len(df), 3), dtype=int)), axis=1), columns=['id_ta', 'price_low','price_average','price_high'])\n",
    "price_range['price_low'] = df['price_range'].apply(lambda x: 1 if x == '$' else 0)\n",
    "price_range['price_average'] = df['price_range'].apply(lambda x: 1 if x == '$$ - $$$' else 0)\n",
    "price_range['price_high'] = df['price_range'].apply(lambda x: 1 if x == '$$$$' else 0)\n",
    "\n",
    "price_range.head()"
   ],
   "metadata": {
    "collapsed": false,
    "pycharm": {
     "name": "#%%\n"
    }
   }
  },
  {
   "cell_type": "markdown",
   "source": [
    "### number_of_reviews"
   ],
   "metadata": {
    "collapsed": false,
    "pycharm": {
     "name": "#%% md\n"
    }
   }
  },
  {
   "cell_type": "code",
   "execution_count": 64,
   "outputs": [],
   "source": [
    "# Заполняем nan значении с mean\n",
    "avg_n_reviews = df.number_of_reviews.mean()\n",
    "df.number_of_reviews.fillna(int(avg_n_reviews), inplace=True)"
   ],
   "metadata": {
    "collapsed": false,
    "pycharm": {
     "name": "#%%\n"
    }
   }
  },
  {
   "cell_type": "markdown",
   "source": [
    "### reviews"
   ],
   "metadata": {
    "collapsed": false,
    "pycharm": {
     "name": "#%% md\n"
    }
   }
  },
  {
   "cell_type": "code",
   "execution_count": 65,
   "outputs": [
    {
     "name": "stdout",
     "output_type": "stream",
     "text": [
      "<class 'pandas.core.frame.DataFrame'>\n",
      "RangeIndex: 39980 entries, 0 to 39979\n",
      "Data columns (total 13 columns):\n",
      " #   Column             Non-Null Count  Dtype  \n",
      "---  ------             --------------  -----  \n",
      " 0   restaurant_id      39980 non-null  object \n",
      " 1   city               39980 non-null  object \n",
      " 2   cuisine_style      30701 non-null  object \n",
      " 3   ranking            39980 non-null  float64\n",
      " 4   rating             39980 non-null  float64\n",
      " 5   price_range        39980 non-null  object \n",
      " 6   number_of_reviews  39980 non-null  float64\n",
      " 7   reviews            39980 non-null  object \n",
      " 8   url_ta             39980 non-null  object \n",
      " 9   id_ta              39980 non-null  object \n",
      " 10  cuisines_count     39980 non-null  int64  \n",
      " 11  review_dates       39980 non-null  object \n",
      " 12  review_dd          39980 non-null  int64  \n",
      "dtypes: float64(3), int64(2), object(8)\n",
      "memory usage: 4.0+ MB\n"
     ]
    }
   ],
   "source": [
    "date_ptn = re.compile('\\'\\d+/\\d+/\\d+\\'?')\n",
    "df['review_dates'] = df['reviews'].apply(lambda x: [dt.strptime(item, \"'%m/%d/%Y'\") for item in date_ptn.findall(x)])\n",
    "df['review_dd'] = df['review_dates'].apply(lambda x: (x[0] - x[1]).days if len(x) >1 else 0)\n",
    "\n",
    "df.info()"
   ],
   "metadata": {
    "collapsed": false,
    "pycharm": {
     "name": "#%%\n"
    }
   }
  },
  {
   "cell_type": "code",
   "execution_count": 66,
   "outputs": [],
   "source": [
    "# Прежде чем вносить опасные изменнения в наш датафрейм, сохраним его\n",
    "df.to_csv('modified.csv')\n"
   ],
   "metadata": {
    "collapsed": false,
    "pycharm": {
     "name": "#%%\n"
    }
   }
  },
  {
   "cell_type": "code",
   "execution_count": 67,
   "outputs": [
    {
     "name": "stdout",
     "output_type": "stream",
     "text": [
      "<class 'pandas.core.frame.DataFrame'>\n",
      "Int64Index: 39980 entries, 0 to 39979\n",
      "Data columns (total 16 columns):\n",
      " #   Column             Non-Null Count  Dtype  \n",
      "---  ------             --------------  -----  \n",
      " 0   restaurant_id      39980 non-null  object \n",
      " 1   city               39980 non-null  object \n",
      " 2   cuisine_style      30701 non-null  object \n",
      " 3   ranking            39980 non-null  float64\n",
      " 4   rating             39980 non-null  float64\n",
      " 5   price_range        39980 non-null  object \n",
      " 6   number_of_reviews  39980 non-null  float64\n",
      " 7   reviews            39980 non-null  object \n",
      " 8   url_ta             39980 non-null  object \n",
      " 9   id_ta              39980 non-null  object \n",
      " 10  cuisines_count     39980 non-null  int64  \n",
      " 11  review_dates       39980 non-null  object \n",
      " 12  review_dd          39980 non-null  int64  \n",
      " 13  price_low          39980 non-null  int64  \n",
      " 14  price_average      39980 non-null  int64  \n",
      " 15  price_high         39980 non-null  int64  \n",
      "dtypes: float64(3), int64(5), object(8)\n",
      "memory usage: 5.2+ MB\n"
     ]
    }
   ],
   "source": [
    "df = df.merge(price_range, on='id_ta')\n",
    "df.info()"
   ],
   "metadata": {
    "collapsed": false,
    "pycharm": {
     "name": "#%%\n"
    }
   }
  },
  {
   "cell_type": "code",
   "execution_count": 68,
   "outputs": [
    {
     "name": "stdout",
     "output_type": "stream",
     "text": [
      "<class 'pandas.core.frame.DataFrame'>\n",
      "Int64Index: 39980 entries, 0 to 39979\n",
      "Data columns (total 53 columns):\n",
      " #   Column                       Non-Null Count  Dtype  \n",
      "---  ------                       --------------  -----  \n",
      " 0   restaurant_id                39980 non-null  object \n",
      " 1   city                         39980 non-null  object \n",
      " 2   cuisine_style                30701 non-null  object \n",
      " 3   ranking                      39980 non-null  float64\n",
      " 4   rating                       39980 non-null  float64\n",
      " 5   price_range                  39980 non-null  object \n",
      " 6   number_of_reviews            39980 non-null  float64\n",
      " 7   reviews                      39980 non-null  object \n",
      " 8   url_ta                       39980 non-null  object \n",
      " 9   id_ta                        39980 non-null  object \n",
      " 10  cuisines_count               39980 non-null  int64  \n",
      " 11  review_dates                 39980 non-null  object \n",
      " 12  review_dd                    39980 non-null  int64  \n",
      " 13  price_low                    39980 non-null  int64  \n",
      " 14  price_average                39980 non-null  int64  \n",
      " 15  price_high                   39980 non-null  int64  \n",
      " 16  cuisine_vietnamese           39980 non-null  int64  \n",
      " 17  cuisine_contemporary         39980 non-null  int64  \n",
      " 18  cuisine_barbecue             39980 non-null  int64  \n",
      " 19  cuisine_steakhouse           39980 non-null  int64  \n",
      " 20  cuisine_fusion               39980 non-null  int64  \n",
      " 21  cuisine_czech                39980 non-null  int64  \n",
      " 22  cuisine_halal                39980 non-null  int64  \n",
      " 23  cuisine_greek                39980 non-null  int64  \n",
      " 24  cuisine_healthy              39980 non-null  int64  \n",
      " 25  cuisine_german               39980 non-null  int64  \n",
      " 26  cuisine_wine_bar             39980 non-null  int64  \n",
      " 27  cuisine_thai                 39980 non-null  int64  \n",
      " 28  cuisine_middle_eastern       39980 non-null  int64  \n",
      " 29  cuisine_indian               39980 non-null  int64  \n",
      " 30  cuisine_portuguese           39980 non-null  int64  \n",
      " 31  cuisine_chinese              39980 non-null  int64  \n",
      " 32  cuisine_sushi                39980 non-null  int64  \n",
      " 33  cuisine_american             39980 non-null  int64  \n",
      " 34  cuisine_central_european     39980 non-null  int64  \n",
      " 35  cuisine_japanese             39980 non-null  int64  \n",
      " 36  cuisine_seafood              39980 non-null  int64  \n",
      " 37  cuisine_international        39980 non-null  int64  \n",
      " 38  cuisine_british              39980 non-null  int64  \n",
      " 39  cuisine_fast_food            39980 non-null  int64  \n",
      " 40  cuisine_cafe                 39980 non-null  int64  \n",
      " 41  cuisine_pub                  39980 non-null  int64  \n",
      " 42  cuisine_spanish              39980 non-null  int64  \n",
      " 43  cuisine_pizza                39980 non-null  int64  \n",
      " 44  cuisine_asian                39980 non-null  int64  \n",
      " 45  cuisine_french               39980 non-null  int64  \n",
      " 46  cuisine_bar                  39980 non-null  int64  \n",
      " 47  cuisine_gluten_free_options  39980 non-null  int64  \n",
      " 48  cuisine_vegan_options        39980 non-null  int64  \n",
      " 49  cuisine_italian              39980 non-null  int64  \n",
      " 50  cuisine_mediterranean        39980 non-null  int64  \n",
      " 51  cuisine_european             39980 non-null  int64  \n",
      " 52  cuisine_vegetarian_friendly  39980 non-null  int64  \n",
      "dtypes: float64(3), int64(42), object(8)\n",
      "memory usage: 16.5+ MB\n"
     ]
    }
   ],
   "source": [
    "# переведём в нижний регистр названия столбцов\n",
    "cuisines.columns = cuisines.columns.str.lower()\n",
    "# заменим пробелы в названиях столбцов на символ нижний подчерк\n",
    "cuisines.columns = cuisines.columns.str.replace(' ', '_')\n",
    "df = df.merge(cuisines, on='id_ta')\n",
    "df.info()"
   ],
   "metadata": {
    "collapsed": false,
    "pycharm": {
     "name": "#%%\n"
    }
   }
  },
  {
   "cell_type": "markdown",
   "source": [
    "### ratings"
   ],
   "metadata": {
    "collapsed": false,
    "pycharm": {
     "name": "#%% md\n"
    }
   }
  },
  {
   "cell_type": "code",
   "execution_count": 70,
   "outputs": [
    {
     "name": "stdout",
     "output_type": "stream",
     "text": [
      "<class 'pandas.core.frame.DataFrame'>\n",
      "Int64Index: 39980 entries, 0 to 39979\n",
      "Data columns (total 53 columns):\n",
      " #   Column                       Non-Null Count  Dtype  \n",
      "---  ------                       --------------  -----  \n",
      " 0   restaurant_id                39980 non-null  object \n",
      " 1   city                         39980 non-null  object \n",
      " 2   cuisine_style                30701 non-null  object \n",
      " 3   ranking                      39980 non-null  float64\n",
      " 4   rating                       39980 non-null  float64\n",
      " 5   price_range                  39980 non-null  object \n",
      " 6   number_of_reviews            39980 non-null  float64\n",
      " 7   reviews                      39980 non-null  object \n",
      " 8   url_ta                       39980 non-null  object \n",
      " 9   id_ta                        39980 non-null  object \n",
      " 10  cuisines_count               39980 non-null  int64  \n",
      " 11  review_dates                 39980 non-null  object \n",
      " 12  review_dd                    39980 non-null  int64  \n",
      " 13  price_low                    39980 non-null  int64  \n",
      " 14  price_average                39980 non-null  int64  \n",
      " 15  price_high                   39980 non-null  int64  \n",
      " 16  cuisine_vietnamese           39980 non-null  int64  \n",
      " 17  cuisine_contemporary         39980 non-null  int64  \n",
      " 18  cuisine_barbecue             39980 non-null  int64  \n",
      " 19  cuisine_steakhouse           39980 non-null  int64  \n",
      " 20  cuisine_fusion               39980 non-null  int64  \n",
      " 21  cuisine_czech                39980 non-null  int64  \n",
      " 22  cuisine_halal                39980 non-null  int64  \n",
      " 23  cuisine_greek                39980 non-null  int64  \n",
      " 24  cuisine_healthy              39980 non-null  int64  \n",
      " 25  cuisine_german               39980 non-null  int64  \n",
      " 26  cuisine_wine_bar             39980 non-null  int64  \n",
      " 27  cuisine_thai                 39980 non-null  int64  \n",
      " 28  cuisine_middle_eastern       39980 non-null  int64  \n",
      " 29  cuisine_indian               39980 non-null  int64  \n",
      " 30  cuisine_portuguese           39980 non-null  int64  \n",
      " 31  cuisine_chinese              39980 non-null  int64  \n",
      " 32  cuisine_sushi                39980 non-null  int64  \n",
      " 33  cuisine_american             39980 non-null  int64  \n",
      " 34  cuisine_central_european     39980 non-null  int64  \n",
      " 35  cuisine_japanese             39980 non-null  int64  \n",
      " 36  cuisine_seafood              39980 non-null  int64  \n",
      " 37  cuisine_international        39980 non-null  int64  \n",
      " 38  cuisine_british              39980 non-null  int64  \n",
      " 39  cuisine_fast_food            39980 non-null  int64  \n",
      " 40  cuisine_cafe                 39980 non-null  int64  \n",
      " 41  cuisine_pub                  39980 non-null  int64  \n",
      " 42  cuisine_spanish              39980 non-null  int64  \n",
      " 43  cuisine_pizza                39980 non-null  int64  \n",
      " 44  cuisine_asian                39980 non-null  int64  \n",
      " 45  cuisine_french               39980 non-null  int64  \n",
      " 46  cuisine_bar                  39980 non-null  int64  \n",
      " 47  cuisine_gluten_free_options  39980 non-null  int64  \n",
      " 48  cuisine_vegan_options        39980 non-null  int64  \n",
      " 49  cuisine_italian              39980 non-null  int64  \n",
      " 50  cuisine_mediterranean        39980 non-null  int64  \n",
      " 51  cuisine_european             39980 non-null  int64  \n",
      " 52  cuisine_vegetarian_friendly  39980 non-null  int64  \n",
      "dtypes: float64(3), int64(42), object(8)\n",
      "memory usage: 16.5+ MB\n"
     ]
    }
   ],
   "source": [
    "df.info()"
   ],
   "metadata": {
    "collapsed": false,
    "pycharm": {
     "name": "#%%\n"
    }
   }
  },
  {
   "cell_type": "markdown",
   "metadata": {},
   "source": [
    "# Разбиваем датафрейм на части, необходимые для обучения и тестирования модели"
   ]
  },
  {
   "cell_type": "code",
   "execution_count": 71,
   "metadata": {},
   "outputs": [
    {
     "data": {
      "text/plain": "       ranking  number_of_reviews  cuisines_count  review_dd  price_low  \\\n0       5570.0              194.0               3         41          0   \n1       1537.0               10.0               1        382          0   \n2        353.0              688.0               7          2          0   \n3       3458.0                3.0               1          0          0   \n4        621.0               84.0               3        272          0   \n...        ...                ...             ...        ...        ...   \n39975    500.0               79.0               4         34          0   \n39976   6341.0              542.0               5          9          0   \n39977   1652.0                4.0               2       3127          1   \n39978    641.0               70.0               5         23          0   \n39979   4827.0              260.0               1       1306          0   \n\n       price_average  price_high  cuisine_vietnamese  cuisine_contemporary  \\\n0                  1           0                   0                     0   \n1                  1           0                   0                     0   \n2                  0           1                   0                     0   \n3                  1           0                   0                     0   \n4                  1           0                   0                     0   \n...              ...         ...                 ...                   ...   \n39975              1           0                   0                     0   \n39976              1           0                   0                     0   \n39977              0           0                   0                     0   \n39978              1           0                   0                     0   \n39979              1           0                   0                     0   \n\n       cuisine_barbecue  ...  cuisine_pizza  cuisine_asian  cuisine_french  \\\n0                     0  ...              0              0               1   \n1                     0  ...              0              0               0   \n2                     0  ...              0              1               0   \n3                     0  ...              0              0               0   \n4                     0  ...              0              0               0   \n...                 ...  ...            ...            ...             ...   \n39975                 0  ...              0              0               0   \n39976                 0  ...              0              0               1   \n39977                 0  ...              0              0               0   \n39978                 0  ...              0              0               0   \n39979                 0  ...              0              0               0   \n\n       cuisine_bar  cuisine_gluten_free_options  cuisine_vegan_options  \\\n0                0                            0                      0   \n1                0                            0                      0   \n2                0                            1                      1   \n3                0                            0                      0   \n4                0                            0                      0   \n...            ...                          ...                    ...   \n39975            0                            1                      1   \n39976            1                            0                      0   \n39977            0                            0                      0   \n39978            0                            0                      0   \n39979            0                            0                      0   \n\n       cuisine_italian  cuisine_mediterranean  cuisine_european  \\\n0                    0                      0                 1   \n1                    0                      0                 0   \n2                    0                      0                 0   \n3                    0                      0                 0   \n4                    0                      0                 0   \n...                ...                    ...               ...   \n39975                1                      0                 0   \n39976                0                      0                 1   \n39977                0                      0                 0   \n39978                0                      0                 1   \n39979                0                      0                 0   \n\n       cuisine_vegetarian_friendly  \n0                                0  \n1                                0  \n2                                1  \n3                                0  \n4                                1  \n...                            ...  \n39975                            1  \n39976                            1  \n39977                            0  \n39978                            1  \n39979                            0  \n\n[39980 rows x 44 columns]",
      "text/html": "<div>\n<style scoped>\n    .dataframe tbody tr th:only-of-type {\n        vertical-align: middle;\n    }\n\n    .dataframe tbody tr th {\n        vertical-align: top;\n    }\n\n    .dataframe thead th {\n        text-align: right;\n    }\n</style>\n<table border=\"1\" class=\"dataframe\">\n  <thead>\n    <tr style=\"text-align: right;\">\n      <th></th>\n      <th>ranking</th>\n      <th>number_of_reviews</th>\n      <th>cuisines_count</th>\n      <th>review_dd</th>\n      <th>price_low</th>\n      <th>price_average</th>\n      <th>price_high</th>\n      <th>cuisine_vietnamese</th>\n      <th>cuisine_contemporary</th>\n      <th>cuisine_barbecue</th>\n      <th>...</th>\n      <th>cuisine_pizza</th>\n      <th>cuisine_asian</th>\n      <th>cuisine_french</th>\n      <th>cuisine_bar</th>\n      <th>cuisine_gluten_free_options</th>\n      <th>cuisine_vegan_options</th>\n      <th>cuisine_italian</th>\n      <th>cuisine_mediterranean</th>\n      <th>cuisine_european</th>\n      <th>cuisine_vegetarian_friendly</th>\n    </tr>\n  </thead>\n  <tbody>\n    <tr>\n      <th>0</th>\n      <td>5570.0</td>\n      <td>194.0</td>\n      <td>3</td>\n      <td>41</td>\n      <td>0</td>\n      <td>1</td>\n      <td>0</td>\n      <td>0</td>\n      <td>0</td>\n      <td>0</td>\n      <td>...</td>\n      <td>0</td>\n      <td>0</td>\n      <td>1</td>\n      <td>0</td>\n      <td>0</td>\n      <td>0</td>\n      <td>0</td>\n      <td>0</td>\n      <td>1</td>\n      <td>0</td>\n    </tr>\n    <tr>\n      <th>1</th>\n      <td>1537.0</td>\n      <td>10.0</td>\n      <td>1</td>\n      <td>382</td>\n      <td>0</td>\n      <td>1</td>\n      <td>0</td>\n      <td>0</td>\n      <td>0</td>\n      <td>0</td>\n      <td>...</td>\n      <td>0</td>\n      <td>0</td>\n      <td>0</td>\n      <td>0</td>\n      <td>0</td>\n      <td>0</td>\n      <td>0</td>\n      <td>0</td>\n      <td>0</td>\n      <td>0</td>\n    </tr>\n    <tr>\n      <th>2</th>\n      <td>353.0</td>\n      <td>688.0</td>\n      <td>7</td>\n      <td>2</td>\n      <td>0</td>\n      <td>0</td>\n      <td>1</td>\n      <td>0</td>\n      <td>0</td>\n      <td>0</td>\n      <td>...</td>\n      <td>0</td>\n      <td>1</td>\n      <td>0</td>\n      <td>0</td>\n      <td>1</td>\n      <td>1</td>\n      <td>0</td>\n      <td>0</td>\n      <td>0</td>\n      <td>1</td>\n    </tr>\n    <tr>\n      <th>3</th>\n      <td>3458.0</td>\n      <td>3.0</td>\n      <td>1</td>\n      <td>0</td>\n      <td>0</td>\n      <td>1</td>\n      <td>0</td>\n      <td>0</td>\n      <td>0</td>\n      <td>0</td>\n      <td>...</td>\n      <td>0</td>\n      <td>0</td>\n      <td>0</td>\n      <td>0</td>\n      <td>0</td>\n      <td>0</td>\n      <td>0</td>\n      <td>0</td>\n      <td>0</td>\n      <td>0</td>\n    </tr>\n    <tr>\n      <th>4</th>\n      <td>621.0</td>\n      <td>84.0</td>\n      <td>3</td>\n      <td>272</td>\n      <td>0</td>\n      <td>1</td>\n      <td>0</td>\n      <td>0</td>\n      <td>0</td>\n      <td>0</td>\n      <td>...</td>\n      <td>0</td>\n      <td>0</td>\n      <td>0</td>\n      <td>0</td>\n      <td>0</td>\n      <td>0</td>\n      <td>0</td>\n      <td>0</td>\n      <td>0</td>\n      <td>1</td>\n    </tr>\n    <tr>\n      <th>...</th>\n      <td>...</td>\n      <td>...</td>\n      <td>...</td>\n      <td>...</td>\n      <td>...</td>\n      <td>...</td>\n      <td>...</td>\n      <td>...</td>\n      <td>...</td>\n      <td>...</td>\n      <td>...</td>\n      <td>...</td>\n      <td>...</td>\n      <td>...</td>\n      <td>...</td>\n      <td>...</td>\n      <td>...</td>\n      <td>...</td>\n      <td>...</td>\n      <td>...</td>\n      <td>...</td>\n    </tr>\n    <tr>\n      <th>39975</th>\n      <td>500.0</td>\n      <td>79.0</td>\n      <td>4</td>\n      <td>34</td>\n      <td>0</td>\n      <td>1</td>\n      <td>0</td>\n      <td>0</td>\n      <td>0</td>\n      <td>0</td>\n      <td>...</td>\n      <td>0</td>\n      <td>0</td>\n      <td>0</td>\n      <td>0</td>\n      <td>1</td>\n      <td>1</td>\n      <td>1</td>\n      <td>0</td>\n      <td>0</td>\n      <td>1</td>\n    </tr>\n    <tr>\n      <th>39976</th>\n      <td>6341.0</td>\n      <td>542.0</td>\n      <td>5</td>\n      <td>9</td>\n      <td>0</td>\n      <td>1</td>\n      <td>0</td>\n      <td>0</td>\n      <td>0</td>\n      <td>0</td>\n      <td>...</td>\n      <td>0</td>\n      <td>0</td>\n      <td>1</td>\n      <td>1</td>\n      <td>0</td>\n      <td>0</td>\n      <td>0</td>\n      <td>0</td>\n      <td>1</td>\n      <td>1</td>\n    </tr>\n    <tr>\n      <th>39977</th>\n      <td>1652.0</td>\n      <td>4.0</td>\n      <td>2</td>\n      <td>3127</td>\n      <td>1</td>\n      <td>0</td>\n      <td>0</td>\n      <td>0</td>\n      <td>0</td>\n      <td>0</td>\n      <td>...</td>\n      <td>0</td>\n      <td>0</td>\n      <td>0</td>\n      <td>0</td>\n      <td>0</td>\n      <td>0</td>\n      <td>0</td>\n      <td>0</td>\n      <td>0</td>\n      <td>0</td>\n    </tr>\n    <tr>\n      <th>39978</th>\n      <td>641.0</td>\n      <td>70.0</td>\n      <td>5</td>\n      <td>23</td>\n      <td>0</td>\n      <td>1</td>\n      <td>0</td>\n      <td>0</td>\n      <td>0</td>\n      <td>0</td>\n      <td>...</td>\n      <td>0</td>\n      <td>0</td>\n      <td>0</td>\n      <td>0</td>\n      <td>0</td>\n      <td>0</td>\n      <td>0</td>\n      <td>0</td>\n      <td>1</td>\n      <td>1</td>\n    </tr>\n    <tr>\n      <th>39979</th>\n      <td>4827.0</td>\n      <td>260.0</td>\n      <td>1</td>\n      <td>1306</td>\n      <td>0</td>\n      <td>1</td>\n      <td>0</td>\n      <td>0</td>\n      <td>0</td>\n      <td>0</td>\n      <td>...</td>\n      <td>0</td>\n      <td>0</td>\n      <td>0</td>\n      <td>0</td>\n      <td>0</td>\n      <td>0</td>\n      <td>0</td>\n      <td>0</td>\n      <td>0</td>\n      <td>0</td>\n    </tr>\n  </tbody>\n</table>\n<p>39980 rows × 44 columns</p>\n</div>"
     },
     "execution_count": 71,
     "metadata": {},
     "output_type": "execute_result"
    }
   ],
   "source": [
    "# объеденяем датафреймы\n",
    "\n",
    "# Х - данные с информацией о ресторанах, у - целевая переменная (рейтинги ресторанов)\n",
    "X = df.drop(['restaurant_id', 'city', 'cuisine_style', 'rating',\n",
    "       'price_range',  'reviews', 'url_ta', 'id_ta',\n",
    "        'review_dates'], axis = 1)\n",
    "y = df['rating']\n",
    "X"
   ]
  },
  {
   "cell_type": "code",
   "execution_count": 72,
   "metadata": {},
   "outputs": [],
   "source": [
    "# Загружаем специальный инструмент для разбивки:\n",
    "from sklearn.model_selection import train_test_split"
   ]
  },
  {
   "cell_type": "code",
   "execution_count": 73,
   "metadata": {},
   "outputs": [],
   "source": [
    "# Наборы данных с меткой \"train\" будут использоваться для обучения модели, \"test\" - для тестирования.\n",
    "# Для тестирования мы будем использовать 25% от исходного датасета.\n",
    "X_train, X_test, y_train, y_test = train_test_split(X, y, test_size=0.25)"
   ]
  },
  {
   "cell_type": "markdown",
   "metadata": {},
   "source": [
    "# Создаём, обучаем и тестируем модель"
   ]
  },
  {
   "cell_type": "code",
   "execution_count": 74,
   "metadata": {},
   "outputs": [],
   "source": [
    "# Импортируем необходимые библиотеки:\n",
    "from sklearn.ensemble import RandomForestRegressor # инструмент для создания и обучения модели\n",
    "from sklearn import metrics # инструменты для оценки точности модели"
   ]
  },
  {
   "cell_type": "code",
   "execution_count": 75,
   "metadata": {},
   "outputs": [],
   "source": [
    "# Создаём модель\n",
    "regr = RandomForestRegressor(n_estimators=100)\n",
    "\n",
    "# Обучаем модель на тестовом наборе данных\n",
    "regr.fit(X_train, y_train)\n",
    "\n",
    "# Используем обученную модель для предсказания рейтинга ресторанов в тестовой выборке.\n",
    "# Предсказанные значения записываем в переменную y_pred\n",
    "y_pred = regr.predict(X_test)"
   ]
  },
  {
   "cell_type": "code",
   "execution_count": 82,
   "metadata": {},
   "outputs": [
    {
     "name": "stdout",
     "output_type": "stream",
     "text": [
      "MAE: 0.3584772088425165\n"
     ]
    }
   ],
   "source": [
    "# Сравниваем предсказанные значения (y_pred) с реальными (y_test), и смотрим насколько они в среднем отличаются\n",
    "# Метрика называется Mean Absolute Error (MAE) и показывает среднее отклонение предсказанных значений от фактических.\n",
    "print('MAE:', metrics.mean_absolute_error(y_test, y_pred))\n",
    "# MAE: 0.299759122418352\n"
   ]
  }
 ],
 "metadata": {
  "kernelspec": {
   "display_name": "Python 3",
   "language": "python",
   "name": "python3"
  },
  "language_info": {
   "codemirror_mode": {
    "name": "ipython",
    "version": 3
   },
   "file_extension": ".py",
   "mimetype": "text/x-python",
   "name": "python",
   "nbconvert_exporter": "python",
   "pygments_lexer": "ipython3",
   "version": "3.7.1"
  }
 },
 "nbformat": 4,
 "nbformat_minor": 2
}